{
 "cells": [
  {
   "cell_type": "markdown",
   "metadata": {},
   "source": [
    "# Analiza eksploracyjna oraz porównawcza skuteczności metod modelowania w predykcji prawdopodobieństwa wyświetlenia reklamy przez użytkownika strony internetowej\n",
    "\n",
    "\n",
    "Zbiór obejmuje 100000 obserwacji i 7 kolumn:\n",
    "- ip: adres IP użytkownika\n",
    "- variant: kod wariantu reklamy wyświetlanego użytkownikowi\n",
    "- device: kod typu urządzenia (telefonu komórkowego) użytkownika\n",
    "- os: kod wariantu system operacyjnego urządzenia użytkownika\n",
    "- channel: kanał, w którym reklama została wyświetlona \n",
    "- click_time: znacznik czasu wyświetlenia reklamy (UTC)\n",
    "- is_clicked: informacja czy reklama została kliknięta (0 = NIE, 1 = TAK) "
   ]
  },
  {
   "cell_type": "code",
   "execution_count": 1,
   "metadata": {},
   "outputs": [],
   "source": [
    "import numpy as np\n",
    "import pandas as pd\n",
    "import matplotlib.pyplot as plt\n",
    "import seaborn as sns\n",
    "%matplotlib inline"
   ]
  },
  {
   "cell_type": "code",
   "execution_count": 2,
   "metadata": {},
   "outputs": [],
   "source": [
    "df = pd.read_csv('add_clicks.csv')"
   ]
  },
  {
   "cell_type": "code",
   "execution_count": 3,
   "metadata": {},
   "outputs": [
    {
     "data": {
      "text/html": [
       "<div>\n",
       "<style scoped>\n",
       "    .dataframe tbody tr th:only-of-type {\n",
       "        vertical-align: middle;\n",
       "    }\n",
       "\n",
       "    .dataframe tbody tr th {\n",
       "        vertical-align: top;\n",
       "    }\n",
       "\n",
       "    .dataframe thead th {\n",
       "        text-align: right;\n",
       "    }\n",
       "</style>\n",
       "<table border=\"1\" class=\"dataframe\">\n",
       "  <thead>\n",
       "    <tr style=\"text-align: right;\">\n",
       "      <th></th>\n",
       "      <th>ip</th>\n",
       "      <th>variant</th>\n",
       "      <th>device</th>\n",
       "      <th>os</th>\n",
       "      <th>channel</th>\n",
       "      <th>click_time</th>\n",
       "      <th>is_clicked</th>\n",
       "    </tr>\n",
       "  </thead>\n",
       "  <tbody>\n",
       "    <tr>\n",
       "      <th>0</th>\n",
       "      <td>87540</td>\n",
       "      <td>12</td>\n",
       "      <td>1</td>\n",
       "      <td>13</td>\n",
       "      <td>497</td>\n",
       "      <td>2017-11-07 09:30</td>\n",
       "      <td>0</td>\n",
       "    </tr>\n",
       "    <tr>\n",
       "      <th>1</th>\n",
       "      <td>105560</td>\n",
       "      <td>25</td>\n",
       "      <td>1</td>\n",
       "      <td>17</td>\n",
       "      <td>259</td>\n",
       "      <td>2017-11-07 13:40</td>\n",
       "      <td>0</td>\n",
       "    </tr>\n",
       "    <tr>\n",
       "      <th>2</th>\n",
       "      <td>101424</td>\n",
       "      <td>12</td>\n",
       "      <td>1</td>\n",
       "      <td>19</td>\n",
       "      <td>212</td>\n",
       "      <td>2017-11-07 18:05</td>\n",
       "      <td>0</td>\n",
       "    </tr>\n",
       "    <tr>\n",
       "      <th>3</th>\n",
       "      <td>94584</td>\n",
       "      <td>13</td>\n",
       "      <td>1</td>\n",
       "      <td>13</td>\n",
       "      <td>477</td>\n",
       "      <td>2017-11-07 04:58</td>\n",
       "      <td>0</td>\n",
       "    </tr>\n",
       "    <tr>\n",
       "      <th>4</th>\n",
       "      <td>68413</td>\n",
       "      <td>12</td>\n",
       "      <td>1</td>\n",
       "      <td>1</td>\n",
       "      <td>178</td>\n",
       "      <td>2017-11-09 09:00</td>\n",
       "      <td>0</td>\n",
       "    </tr>\n",
       "  </tbody>\n",
       "</table>\n",
       "</div>"
      ],
      "text/plain": [
       "       ip  variant  device  os  channel        click_time  is_clicked\n",
       "0   87540       12       1  13      497  2017-11-07 09:30           0\n",
       "1  105560       25       1  17      259  2017-11-07 13:40           0\n",
       "2  101424       12       1  19      212  2017-11-07 18:05           0\n",
       "3   94584       13       1  13      477  2017-11-07 04:58           0\n",
       "4   68413       12       1   1      178  2017-11-09 09:00           0"
      ]
     },
     "execution_count": 3,
     "metadata": {},
     "output_type": "execute_result"
    }
   ],
   "source": [
    "df.head()"
   ]
  },
  {
   "cell_type": "code",
   "execution_count": 4,
   "metadata": {},
   "outputs": [
    {
     "name": "stdout",
     "output_type": "stream",
     "text": [
      "<class 'pandas.core.frame.DataFrame'>\n",
      "RangeIndex: 100000 entries, 0 to 99999\n",
      "Data columns (total 7 columns):\n",
      " #   Column      Non-Null Count   Dtype \n",
      "---  ------      --------------   ----- \n",
      " 0   ip          100000 non-null  int64 \n",
      " 1   variant     100000 non-null  int64 \n",
      " 2   device      100000 non-null  int64 \n",
      " 3   os          100000 non-null  int64 \n",
      " 4   channel     100000 non-null  int64 \n",
      " 5   click_time  100000 non-null  object\n",
      " 6   is_clicked  100000 non-null  int64 \n",
      "dtypes: int64(6), object(1)\n",
      "memory usage: 5.3+ MB\n"
     ]
    }
   ],
   "source": [
    "df.info()"
   ]
  },
  {
   "cell_type": "markdown",
   "metadata": {},
   "source": [
    "W badanym zbiorze znajduje się 100000 obserwacji w siedmiu kolumnach, z czego sześć jest liczbą, a jedna datą."
   ]
  },
  {
   "cell_type": "code",
   "execution_count": 5,
   "metadata": {},
   "outputs": [
    {
     "data": {
      "text/html": [
       "<div>\n",
       "<style scoped>\n",
       "    .dataframe tbody tr th:only-of-type {\n",
       "        vertical-align: middle;\n",
       "    }\n",
       "\n",
       "    .dataframe tbody tr th {\n",
       "        vertical-align: top;\n",
       "    }\n",
       "\n",
       "    .dataframe thead th {\n",
       "        text-align: right;\n",
       "    }\n",
       "</style>\n",
       "<table border=\"1\" class=\"dataframe\">\n",
       "  <thead>\n",
       "    <tr style=\"text-align: right;\">\n",
       "      <th></th>\n",
       "      <th>ip</th>\n",
       "      <th>variant</th>\n",
       "      <th>device</th>\n",
       "      <th>os</th>\n",
       "      <th>channel</th>\n",
       "      <th>is_clicked</th>\n",
       "    </tr>\n",
       "  </thead>\n",
       "  <tbody>\n",
       "    <tr>\n",
       "      <th>count</th>\n",
       "      <td>100000.000000</td>\n",
       "      <td>100000.00000</td>\n",
       "      <td>100000.000000</td>\n",
       "      <td>100000.000000</td>\n",
       "      <td>100000.000000</td>\n",
       "      <td>100000.000000</td>\n",
       "    </tr>\n",
       "    <tr>\n",
       "      <th>mean</th>\n",
       "      <td>91255.879670</td>\n",
       "      <td>12.04788</td>\n",
       "      <td>21.771250</td>\n",
       "      <td>22.818280</td>\n",
       "      <td>268.832460</td>\n",
       "      <td>0.002270</td>\n",
       "    </tr>\n",
       "    <tr>\n",
       "      <th>std</th>\n",
       "      <td>69835.553661</td>\n",
       "      <td>14.94150</td>\n",
       "      <td>259.667767</td>\n",
       "      <td>55.943136</td>\n",
       "      <td>129.724248</td>\n",
       "      <td>0.047591</td>\n",
       "    </tr>\n",
       "    <tr>\n",
       "      <th>min</th>\n",
       "      <td>9.000000</td>\n",
       "      <td>1.00000</td>\n",
       "      <td>0.000000</td>\n",
       "      <td>0.000000</td>\n",
       "      <td>3.000000</td>\n",
       "      <td>0.000000</td>\n",
       "    </tr>\n",
       "    <tr>\n",
       "      <th>25%</th>\n",
       "      <td>40552.000000</td>\n",
       "      <td>3.00000</td>\n",
       "      <td>1.000000</td>\n",
       "      <td>13.000000</td>\n",
       "      <td>145.000000</td>\n",
       "      <td>0.000000</td>\n",
       "    </tr>\n",
       "    <tr>\n",
       "      <th>50%</th>\n",
       "      <td>79827.000000</td>\n",
       "      <td>12.00000</td>\n",
       "      <td>1.000000</td>\n",
       "      <td>18.000000</td>\n",
       "      <td>258.000000</td>\n",
       "      <td>0.000000</td>\n",
       "    </tr>\n",
       "    <tr>\n",
       "      <th>75%</th>\n",
       "      <td>118252.000000</td>\n",
       "      <td>15.00000</td>\n",
       "      <td>1.000000</td>\n",
       "      <td>19.000000</td>\n",
       "      <td>379.000000</td>\n",
       "      <td>0.000000</td>\n",
       "    </tr>\n",
       "    <tr>\n",
       "      <th>max</th>\n",
       "      <td>364757.000000</td>\n",
       "      <td>551.00000</td>\n",
       "      <td>3867.000000</td>\n",
       "      <td>866.000000</td>\n",
       "      <td>498.000000</td>\n",
       "      <td>1.000000</td>\n",
       "    </tr>\n",
       "  </tbody>\n",
       "</table>\n",
       "</div>"
      ],
      "text/plain": [
       "                  ip       variant         device             os  \\\n",
       "count  100000.000000  100000.00000  100000.000000  100000.000000   \n",
       "mean    91255.879670      12.04788      21.771250      22.818280   \n",
       "std     69835.553661      14.94150     259.667767      55.943136   \n",
       "min         9.000000       1.00000       0.000000       0.000000   \n",
       "25%     40552.000000       3.00000       1.000000      13.000000   \n",
       "50%     79827.000000      12.00000       1.000000      18.000000   \n",
       "75%    118252.000000      15.00000       1.000000      19.000000   \n",
       "max    364757.000000     551.00000    3867.000000     866.000000   \n",
       "\n",
       "             channel     is_clicked  \n",
       "count  100000.000000  100000.000000  \n",
       "mean      268.832460       0.002270  \n",
       "std       129.724248       0.047591  \n",
       "min         3.000000       0.000000  \n",
       "25%       145.000000       0.000000  \n",
       "50%       258.000000       0.000000  \n",
       "75%       379.000000       0.000000  \n",
       "max       498.000000       1.000000  "
      ]
     },
     "execution_count": 5,
     "metadata": {},
     "output_type": "execute_result"
    }
   ],
   "source": [
    "df.describe()"
   ]
  },
  {
   "cell_type": "markdown",
   "metadata": {},
   "source": [
    "W powyższej tabeli można zauważyć statystyczne zestawienie poszczególnych zmiennych."
   ]
  },
  {
   "cell_type": "markdown",
   "metadata": {},
   "source": [
    "# Analiza eksploracyjna"
   ]
  },
  {
   "cell_type": "markdown",
   "metadata": {},
   "source": [
    "Pierwszym krokiem prowadzącym do wykonanania analizy eksploracyjnej na badanym zbiorze danych jest przygotowanie danych, czyli m.in sprawdzenie, czy zawiera on jakiekolwiek braki, które mogły by być uzupełnione."
   ]
  },
  {
   "cell_type": "code",
   "execution_count": 6,
   "metadata": {},
   "outputs": [
    {
     "data": {
      "text/html": [
       "<div>\n",
       "<style scoped>\n",
       "    .dataframe tbody tr th:only-of-type {\n",
       "        vertical-align: middle;\n",
       "    }\n",
       "\n",
       "    .dataframe tbody tr th {\n",
       "        vertical-align: top;\n",
       "    }\n",
       "\n",
       "    .dataframe thead th {\n",
       "        text-align: right;\n",
       "    }\n",
       "</style>\n",
       "<table border=\"1\" class=\"dataframe\">\n",
       "  <thead>\n",
       "    <tr style=\"text-align: right;\">\n",
       "      <th></th>\n",
       "      <th>ip</th>\n",
       "      <th>variant</th>\n",
       "      <th>device</th>\n",
       "      <th>os</th>\n",
       "      <th>channel</th>\n",
       "      <th>click_time</th>\n",
       "      <th>is_clicked</th>\n",
       "    </tr>\n",
       "  </thead>\n",
       "  <tbody>\n",
       "    <tr>\n",
       "      <th>0</th>\n",
       "      <td>False</td>\n",
       "      <td>False</td>\n",
       "      <td>False</td>\n",
       "      <td>False</td>\n",
       "      <td>False</td>\n",
       "      <td>False</td>\n",
       "      <td>False</td>\n",
       "    </tr>\n",
       "    <tr>\n",
       "      <th>1</th>\n",
       "      <td>False</td>\n",
       "      <td>False</td>\n",
       "      <td>False</td>\n",
       "      <td>False</td>\n",
       "      <td>False</td>\n",
       "      <td>False</td>\n",
       "      <td>False</td>\n",
       "    </tr>\n",
       "    <tr>\n",
       "      <th>2</th>\n",
       "      <td>False</td>\n",
       "      <td>False</td>\n",
       "      <td>False</td>\n",
       "      <td>False</td>\n",
       "      <td>False</td>\n",
       "      <td>False</td>\n",
       "      <td>False</td>\n",
       "    </tr>\n",
       "    <tr>\n",
       "      <th>3</th>\n",
       "      <td>False</td>\n",
       "      <td>False</td>\n",
       "      <td>False</td>\n",
       "      <td>False</td>\n",
       "      <td>False</td>\n",
       "      <td>False</td>\n",
       "      <td>False</td>\n",
       "    </tr>\n",
       "    <tr>\n",
       "      <th>4</th>\n",
       "      <td>False</td>\n",
       "      <td>False</td>\n",
       "      <td>False</td>\n",
       "      <td>False</td>\n",
       "      <td>False</td>\n",
       "      <td>False</td>\n",
       "      <td>False</td>\n",
       "    </tr>\n",
       "    <tr>\n",
       "      <th>...</th>\n",
       "      <td>...</td>\n",
       "      <td>...</td>\n",
       "      <td>...</td>\n",
       "      <td>...</td>\n",
       "      <td>...</td>\n",
       "      <td>...</td>\n",
       "      <td>...</td>\n",
       "    </tr>\n",
       "    <tr>\n",
       "      <th>99995</th>\n",
       "      <td>False</td>\n",
       "      <td>False</td>\n",
       "      <td>False</td>\n",
       "      <td>False</td>\n",
       "      <td>False</td>\n",
       "      <td>False</td>\n",
       "      <td>False</td>\n",
       "    </tr>\n",
       "    <tr>\n",
       "      <th>99996</th>\n",
       "      <td>False</td>\n",
       "      <td>False</td>\n",
       "      <td>False</td>\n",
       "      <td>False</td>\n",
       "      <td>False</td>\n",
       "      <td>False</td>\n",
       "      <td>False</td>\n",
       "    </tr>\n",
       "    <tr>\n",
       "      <th>99997</th>\n",
       "      <td>False</td>\n",
       "      <td>False</td>\n",
       "      <td>False</td>\n",
       "      <td>False</td>\n",
       "      <td>False</td>\n",
       "      <td>False</td>\n",
       "      <td>False</td>\n",
       "    </tr>\n",
       "    <tr>\n",
       "      <th>99998</th>\n",
       "      <td>False</td>\n",
       "      <td>False</td>\n",
       "      <td>False</td>\n",
       "      <td>False</td>\n",
       "      <td>False</td>\n",
       "      <td>False</td>\n",
       "      <td>False</td>\n",
       "    </tr>\n",
       "    <tr>\n",
       "      <th>99999</th>\n",
       "      <td>False</td>\n",
       "      <td>False</td>\n",
       "      <td>False</td>\n",
       "      <td>False</td>\n",
       "      <td>False</td>\n",
       "      <td>False</td>\n",
       "      <td>False</td>\n",
       "    </tr>\n",
       "  </tbody>\n",
       "</table>\n",
       "<p>100000 rows × 7 columns</p>\n",
       "</div>"
      ],
      "text/plain": [
       "          ip  variant  device     os  channel  click_time  is_clicked\n",
       "0      False    False   False  False    False       False       False\n",
       "1      False    False   False  False    False       False       False\n",
       "2      False    False   False  False    False       False       False\n",
       "3      False    False   False  False    False       False       False\n",
       "4      False    False   False  False    False       False       False\n",
       "...      ...      ...     ...    ...      ...         ...         ...\n",
       "99995  False    False   False  False    False       False       False\n",
       "99996  False    False   False  False    False       False       False\n",
       "99997  False    False   False  False    False       False       False\n",
       "99998  False    False   False  False    False       False       False\n",
       "99999  False    False   False  False    False       False       False\n",
       "\n",
       "[100000 rows x 7 columns]"
      ]
     },
     "execution_count": 6,
     "metadata": {},
     "output_type": "execute_result"
    }
   ],
   "source": [
    "df.isnull()"
   ]
  },
  {
   "cell_type": "code",
   "execution_count": 7,
   "metadata": {},
   "outputs": [
    {
     "data": {
      "text/plain": [
       "<matplotlib.axes._subplots.AxesSubplot at 0x18472e2e2c8>"
      ]
     },
     "execution_count": 7,
     "metadata": {},
     "output_type": "execute_result"
    },
    {
     "data": {
      "image/png": "[encoded data removed]",
      "text/plain": [
       "<Figure size 432x288 with 1 Axes>"
      ]
     },
     "metadata": {
      "needs_background": "light"
     },
     "output_type": "display_data"
    }
   ],
   "source": [
    "sns.heatmap(df.isnull(),yticklabels=False, cbar=False,cmap='viridis')"
   ]
  },
  {
   "cell_type": "markdown",
   "metadata": {},
   "source": [
    "Biorąc pod uwagę powyższy wykres, można zauważyć, że w badanym zbiorze danych nie ma braków danych, dzięki czemu można bez problemu przejść do dalszej analizy."
   ]
  },
  {
   "cell_type": "markdown",
   "metadata": {},
   "source": [
    "Następnym krokiem będzie zbadanie klasy. W poniższej analizie widać, że klasa jest niezrównoważona, przy czym reklama nie została kliknięta 99773 razy, a kilknięta tylko 227 razy."
   ]
  },
  {
   "cell_type": "code",
   "execution_count": 8,
   "metadata": {},
   "outputs": [
    {
     "data": {
      "text/plain": [
       "0    99773\n",
       "1      227\n",
       "Name: is_clicked, dtype: int64"
      ]
     },
     "execution_count": 8,
     "metadata": {},
     "output_type": "execute_result"
    }
   ],
   "source": [
    "df['is_clicked'].value_counts()"
   ]
  },
  {
   "cell_type": "code",
   "execution_count": 9,
   "metadata": {},
   "outputs": [
    {
     "data": {
      "text/plain": [
       "Text(0.5, 1.0, 'Ads clicked count')"
      ]
     },
     "execution_count": 9,
     "metadata": {},
     "output_type": "execute_result"
    },
    {
     "data": {
      "image/png": "[encoded data removed]",
      "text/plain": [
       "<Figure size 432x288 with 1 Axes>"
      ]
     },
     "metadata": {
      "needs_background": "light"
     },
     "output_type": "display_data"
    }
   ],
   "source": [
    "sns.countplot(x='is_clicked',data=df)\n",
    "plt.title('Ads clicked count')"
   ]
  },
  {
   "cell_type": "markdown",
   "metadata": {},
   "source": [
    "Następnie sprawdzono poszczególne zmienne oraz przedstawiono ich zalezności na wykresach. Można zauważyć, że najczęściej wyświetlaną reklamą jest ta z kodem 3, którą to pokazano 18279 razy. Drugą w kolejności jest reklama z kodem 12 i wyświetleniami w liczbie 13198. Trzecią z kolei jest reklama z kodem 2, którą wyświetlono 11737 razy."
   ]
  },
  {
   "cell_type": "code",
   "execution_count": 10,
   "metadata": {},
   "outputs": [
    {
     "data": {
      "text/html": [
       "<div>\n",
       "<style scoped>\n",
       "    .dataframe tbody tr th:only-of-type {\n",
       "        vertical-align: middle;\n",
       "    }\n",
       "\n",
       "    .dataframe tbody tr th {\n",
       "        vertical-align: top;\n",
       "    }\n",
       "\n",
       "    .dataframe thead th {\n",
       "        text-align: right;\n",
       "    }\n",
       "</style>\n",
       "<table border=\"1\" class=\"dataframe\">\n",
       "  <thead>\n",
       "    <tr style=\"text-align: right;\">\n",
       "      <th></th>\n",
       "      <th>ip</th>\n",
       "      <th>variant</th>\n",
       "      <th>device</th>\n",
       "      <th>os</th>\n",
       "      <th>channel</th>\n",
       "      <th>click_time</th>\n",
       "      <th>is_clicked</th>\n",
       "    </tr>\n",
       "  </thead>\n",
       "  <tbody>\n",
       "    <tr>\n",
       "      <th>0</th>\n",
       "      <td>87540</td>\n",
       "      <td>12</td>\n",
       "      <td>1</td>\n",
       "      <td>13</td>\n",
       "      <td>497</td>\n",
       "      <td>2017-11-07 09:30</td>\n",
       "      <td>0</td>\n",
       "    </tr>\n",
       "    <tr>\n",
       "      <th>1</th>\n",
       "      <td>105560</td>\n",
       "      <td>25</td>\n",
       "      <td>1</td>\n",
       "      <td>17</td>\n",
       "      <td>259</td>\n",
       "      <td>2017-11-07 13:40</td>\n",
       "      <td>0</td>\n",
       "    </tr>\n",
       "    <tr>\n",
       "      <th>2</th>\n",
       "      <td>101424</td>\n",
       "      <td>12</td>\n",
       "      <td>1</td>\n",
       "      <td>19</td>\n",
       "      <td>212</td>\n",
       "      <td>2017-11-07 18:05</td>\n",
       "      <td>0</td>\n",
       "    </tr>\n",
       "    <tr>\n",
       "      <th>3</th>\n",
       "      <td>94584</td>\n",
       "      <td>13</td>\n",
       "      <td>1</td>\n",
       "      <td>13</td>\n",
       "      <td>477</td>\n",
       "      <td>2017-11-07 04:58</td>\n",
       "      <td>0</td>\n",
       "    </tr>\n",
       "    <tr>\n",
       "      <th>4</th>\n",
       "      <td>68413</td>\n",
       "      <td>12</td>\n",
       "      <td>1</td>\n",
       "      <td>1</td>\n",
       "      <td>178</td>\n",
       "      <td>2017-11-09 09:00</td>\n",
       "      <td>0</td>\n",
       "    </tr>\n",
       "  </tbody>\n",
       "</table>\n",
       "</div>"
      ],
      "text/plain": [
       "       ip  variant  device  os  channel        click_time  is_clicked\n",
       "0   87540       12       1  13      497  2017-11-07 09:30           0\n",
       "1  105560       25       1  17      259  2017-11-07 13:40           0\n",
       "2  101424       12       1  19      212  2017-11-07 18:05           0\n",
       "3   94584       13       1  13      477  2017-11-07 04:58           0\n",
       "4   68413       12       1   1      178  2017-11-09 09:00           0"
      ]
     },
     "execution_count": 10,
     "metadata": {},
     "output_type": "execute_result"
    }
   ],
   "source": [
    "df.head()"
   ]
  },
  {
   "cell_type": "code",
   "execution_count": 11,
   "metadata": {},
   "outputs": [
    {
     "data": {
      "text/plain": [
       "3     18279\n",
       "12    13198\n",
       "2     11737\n",
       "9      8992\n",
       "15     8595\n",
       "Name: variant, dtype: int64"
      ]
     },
     "execution_count": 11,
     "metadata": {},
     "output_type": "execute_result"
    }
   ],
   "source": [
    "df['variant'].value_counts().head(5)"
   ]
  },
  {
   "cell_type": "code",
   "execution_count": 12,
   "metadata": {},
   "outputs": [
    {
     "data": {
      "text/plain": [
       "Text(0.5, 1.0, 'Channel & Variant')"
      ]
     },
     "execution_count": 12,
     "metadata": {},
     "output_type": "execute_result"
    },
    {
     "data": {
      "image/png": "[encoded data removed]",
      "text/plain": [
       "<Figure size 720x432 with 1 Axes>"
      ]
     },
     "metadata": {
      "needs_background": "light"
     },
     "output_type": "display_data"
    }
   ],
   "source": [
    "plt.figure(figsize=(10,6))\n",
    "df[df['variant']==3]['channel'].hist(alpha=0.5,color='blue',\n",
    "                                              bins=50,label='Variant=3')\n",
    "df[df['variant']==12]['channel'].hist(alpha=0.5,color='red',\n",
    "                                              bins=50,label='Variant=12')\n",
    "df[df['variant']==2]['channel'].hist(alpha=0.5,color='yellow',\n",
    "                                              bins=50,label='Variant=2')\n",
    "plt.legend()\n",
    "plt.xlabel('Channel')\n",
    "plt.title('Channel & Variant')"
   ]
  },
  {
   "cell_type": "markdown",
   "metadata": {},
   "source": [
    "Na powyższym wykresie można zauważyć, że najczęściej wyświetlana reklama jest pokazywana na kanale ok.280. Natomiast druga z kolei najczęściej jest wyświetlana na kanale ok. 245, co potwierdzają poniższe wyszukiwania."
   ]
  },
  {
   "cell_type": "code",
   "execution_count": 13,
   "metadata": {},
   "outputs": [
    {
     "data": {
      "text/plain": [
       "1       94338\n",
       "2        4345\n",
       "0         541\n",
       "3032      371\n",
       "3543      151\n",
       "Name: device, dtype: int64"
      ]
     },
     "execution_count": 13,
     "metadata": {},
     "output_type": "execute_result"
    }
   ],
   "source": [
    "df['device'].value_counts().head(5)"
   ]
  },
  {
   "cell_type": "code",
   "execution_count": 14,
   "metadata": {},
   "outputs": [
    {
     "data": {
      "text/plain": [
       "280    8114\n",
       "245    4802\n",
       "107    4543\n",
       "477    3960\n",
       "134    3224\n",
       "Name: channel, dtype: int64"
      ]
     },
     "execution_count": 14,
     "metadata": {},
     "output_type": "execute_result"
    }
   ],
   "source": [
    "df['channel'].value_counts().head(5)"
   ]
  },
  {
   "cell_type": "markdown",
   "metadata": {},
   "source": [
    "W następnych kroku przekształcono kolumnę 'click_time' w dodatkowe zmienne, które ułatwiają dalszą eksplorację."
   ]
  },
  {
   "cell_type": "code",
   "execution_count": 15,
   "metadata": {},
   "outputs": [
    {
     "data": {
      "text/plain": [
       "str"
      ]
     },
     "execution_count": 15,
     "metadata": {},
     "output_type": "execute_result"
    }
   ],
   "source": [
    "type(df['click_time'].iloc[0])"
   ]
  },
  {
   "cell_type": "code",
   "execution_count": 16,
   "metadata": {},
   "outputs": [],
   "source": [
    "df['click_time'] = pd.to_datetime(df['click_time'])"
   ]
  },
  {
   "cell_type": "code",
   "execution_count": 17,
   "metadata": {},
   "outputs": [],
   "source": [
    "df['Hour'] = df['click_time'].apply(lambda time: time.hour)\n",
    "df['Day of Week'] = df['click_time'].apply(lambda time: time.dayofweek)"
   ]
  },
  {
   "cell_type": "code",
   "execution_count": 18,
   "metadata": {},
   "outputs": [
    {
     "data": {
      "text/html": [
       "<div>\n",
       "<style scoped>\n",
       "    .dataframe tbody tr th:only-of-type {\n",
       "        vertical-align: middle;\n",
       "    }\n",
       "\n",
       "    .dataframe tbody tr th {\n",
       "        vertical-align: top;\n",
       "    }\n",
       "\n",
       "    .dataframe thead th {\n",
       "        text-align: right;\n",
       "    }\n",
       "</style>\n",
       "<table border=\"1\" class=\"dataframe\">\n",
       "  <thead>\n",
       "    <tr style=\"text-align: right;\">\n",
       "      <th></th>\n",
       "      <th>ip</th>\n",
       "      <th>variant</th>\n",
       "      <th>device</th>\n",
       "      <th>os</th>\n",
       "      <th>channel</th>\n",
       "      <th>click_time</th>\n",
       "      <th>is_clicked</th>\n",
       "      <th>Hour</th>\n",
       "      <th>Day of Week</th>\n",
       "    </tr>\n",
       "  </thead>\n",
       "  <tbody>\n",
       "    <tr>\n",
       "      <th>0</th>\n",
       "      <td>87540</td>\n",
       "      <td>12</td>\n",
       "      <td>1</td>\n",
       "      <td>13</td>\n",
       "      <td>497</td>\n",
       "      <td>2017-11-07 09:30:00</td>\n",
       "      <td>0</td>\n",
       "      <td>9</td>\n",
       "      <td>1</td>\n",
       "    </tr>\n",
       "    <tr>\n",
       "      <th>1</th>\n",
       "      <td>105560</td>\n",
       "      <td>25</td>\n",
       "      <td>1</td>\n",
       "      <td>17</td>\n",
       "      <td>259</td>\n",
       "      <td>2017-11-07 13:40:00</td>\n",
       "      <td>0</td>\n",
       "      <td>13</td>\n",
       "      <td>1</td>\n",
       "    </tr>\n",
       "    <tr>\n",
       "      <th>2</th>\n",
       "      <td>101424</td>\n",
       "      <td>12</td>\n",
       "      <td>1</td>\n",
       "      <td>19</td>\n",
       "      <td>212</td>\n",
       "      <td>2017-11-07 18:05:00</td>\n",
       "      <td>0</td>\n",
       "      <td>18</td>\n",
       "      <td>1</td>\n",
       "    </tr>\n",
       "    <tr>\n",
       "      <th>3</th>\n",
       "      <td>94584</td>\n",
       "      <td>13</td>\n",
       "      <td>1</td>\n",
       "      <td>13</td>\n",
       "      <td>477</td>\n",
       "      <td>2017-11-07 04:58:00</td>\n",
       "      <td>0</td>\n",
       "      <td>4</td>\n",
       "      <td>1</td>\n",
       "    </tr>\n",
       "    <tr>\n",
       "      <th>4</th>\n",
       "      <td>68413</td>\n",
       "      <td>12</td>\n",
       "      <td>1</td>\n",
       "      <td>1</td>\n",
       "      <td>178</td>\n",
       "      <td>2017-11-09 09:00:00</td>\n",
       "      <td>0</td>\n",
       "      <td>9</td>\n",
       "      <td>3</td>\n",
       "    </tr>\n",
       "  </tbody>\n",
       "</table>\n",
       "</div>"
      ],
      "text/plain": [
       "       ip  variant  device  os  channel          click_time  is_clicked  Hour  \\\n",
       "0   87540       12       1  13      497 2017-11-07 09:30:00           0     9   \n",
       "1  105560       25       1  17      259 2017-11-07 13:40:00           0    13   \n",
       "2  101424       12       1  19      212 2017-11-07 18:05:00           0    18   \n",
       "3   94584       13       1  13      477 2017-11-07 04:58:00           0     4   \n",
       "4   68413       12       1   1      178 2017-11-09 09:00:00           0     9   \n",
       "\n",
       "   Day of Week  \n",
       "0            1  \n",
       "1            1  \n",
       "2            1  \n",
       "3            1  \n",
       "4            3  "
      ]
     },
     "execution_count": 18,
     "metadata": {},
     "output_type": "execute_result"
    }
   ],
   "source": [
    "df.head()"
   ]
  },
  {
   "cell_type": "code",
   "execution_count": 19,
   "metadata": {},
   "outputs": [],
   "source": [
    "dmap = {0:'Mon',1:'Tue',2:'Wed',3:'Thu',4:'Fri',5:'Sat',6:'Sun'}"
   ]
  },
  {
   "cell_type": "code",
   "execution_count": 20,
   "metadata": {},
   "outputs": [],
   "source": [
    "df['Day of Week'] = df['Day of Week'].map(dmap)"
   ]
  },
  {
   "cell_type": "code",
   "execution_count": 21,
   "metadata": {},
   "outputs": [
    {
     "data": {
      "text/html": [
       "<div>\n",
       "<style scoped>\n",
       "    .dataframe tbody tr th:only-of-type {\n",
       "        vertical-align: middle;\n",
       "    }\n",
       "\n",
       "    .dataframe tbody tr th {\n",
       "        vertical-align: top;\n",
       "    }\n",
       "\n",
       "    .dataframe thead th {\n",
       "        text-align: right;\n",
       "    }\n",
       "</style>\n",
       "<table border=\"1\" class=\"dataframe\">\n",
       "  <thead>\n",
       "    <tr style=\"text-align: right;\">\n",
       "      <th></th>\n",
       "      <th>ip</th>\n",
       "      <th>variant</th>\n",
       "      <th>device</th>\n",
       "      <th>os</th>\n",
       "      <th>channel</th>\n",
       "      <th>click_time</th>\n",
       "      <th>is_clicked</th>\n",
       "      <th>Hour</th>\n",
       "      <th>Day of Week</th>\n",
       "    </tr>\n",
       "  </thead>\n",
       "  <tbody>\n",
       "    <tr>\n",
       "      <th>0</th>\n",
       "      <td>87540</td>\n",
       "      <td>12</td>\n",
       "      <td>1</td>\n",
       "      <td>13</td>\n",
       "      <td>497</td>\n",
       "      <td>2017-11-07 09:30:00</td>\n",
       "      <td>0</td>\n",
       "      <td>9</td>\n",
       "      <td>Tue</td>\n",
       "    </tr>\n",
       "    <tr>\n",
       "      <th>1</th>\n",
       "      <td>105560</td>\n",
       "      <td>25</td>\n",
       "      <td>1</td>\n",
       "      <td>17</td>\n",
       "      <td>259</td>\n",
       "      <td>2017-11-07 13:40:00</td>\n",
       "      <td>0</td>\n",
       "      <td>13</td>\n",
       "      <td>Tue</td>\n",
       "    </tr>\n",
       "    <tr>\n",
       "      <th>2</th>\n",
       "      <td>101424</td>\n",
       "      <td>12</td>\n",
       "      <td>1</td>\n",
       "      <td>19</td>\n",
       "      <td>212</td>\n",
       "      <td>2017-11-07 18:05:00</td>\n",
       "      <td>0</td>\n",
       "      <td>18</td>\n",
       "      <td>Tue</td>\n",
       "    </tr>\n",
       "    <tr>\n",
       "      <th>3</th>\n",
       "      <td>94584</td>\n",
       "      <td>13</td>\n",
       "      <td>1</td>\n",
       "      <td>13</td>\n",
       "      <td>477</td>\n",
       "      <td>2017-11-07 04:58:00</td>\n",
       "      <td>0</td>\n",
       "      <td>4</td>\n",
       "      <td>Tue</td>\n",
       "    </tr>\n",
       "    <tr>\n",
       "      <th>4</th>\n",
       "      <td>68413</td>\n",
       "      <td>12</td>\n",
       "      <td>1</td>\n",
       "      <td>1</td>\n",
       "      <td>178</td>\n",
       "      <td>2017-11-09 09:00:00</td>\n",
       "      <td>0</td>\n",
       "      <td>9</td>\n",
       "      <td>Thu</td>\n",
       "    </tr>\n",
       "  </tbody>\n",
       "</table>\n",
       "</div>"
      ],
      "text/plain": [
       "       ip  variant  device  os  channel          click_time  is_clicked  Hour  \\\n",
       "0   87540       12       1  13      497 2017-11-07 09:30:00           0     9   \n",
       "1  105560       25       1  17      259 2017-11-07 13:40:00           0    13   \n",
       "2  101424       12       1  19      212 2017-11-07 18:05:00           0    18   \n",
       "3   94584       13       1  13      477 2017-11-07 04:58:00           0     4   \n",
       "4   68413       12       1   1      178 2017-11-09 09:00:00           0     9   \n",
       "\n",
       "  Day of Week  \n",
       "0         Tue  \n",
       "1         Tue  \n",
       "2         Tue  \n",
       "3         Tue  \n",
       "4         Thu  "
      ]
     },
     "execution_count": 21,
     "metadata": {},
     "output_type": "execute_result"
    }
   ],
   "source": [
    "df.head()"
   ]
  },
  {
   "cell_type": "markdown",
   "metadata": {},
   "source": [
    "Dodane zmienne zwizualizowano na poniższych wykresach. Na pierwszym z nich można zauważyć, że reklamy najczęściej były wyświetlane w środy oraz wtorki i czwartki, co znacząco wskazuje na zdecydowane zwiększenie się natężenia ruchu na stronie internetowej w dni robocze. Najmniej reklam było wyświetlanych w poniedziałki, co może tłumaczyć fakt, że jest to zawsze pierwszy dzień tygodnia, podczas którego ludzie spędzają mało czasu w internecie skupiając się na nowych obowiązkach."
   ]
  },
  {
   "cell_type": "code",
   "execution_count": 22,
   "metadata": {},
   "outputs": [
    {
     "data": {
      "text/plain": [
       "<matplotlib.axes._subplots.AxesSubplot at 0x184738899c8>"
      ]
     },
     "execution_count": 22,
     "metadata": {},
     "output_type": "execute_result"
    },
    {
     "data": {
      "image/png": "[encoded data removed]",
      "text/plain": [
       "<Figure size 432x288 with 1 Axes>"
      ]
     },
     "metadata": {
      "needs_background": "light"
     },
     "output_type": "display_data"
    }
   ],
   "source": [
    "sns.countplot(x='Day of Week',data=df)"
   ]
  },
  {
   "cell_type": "markdown",
   "metadata": {},
   "source": [
    "Następnie zbadano godziny, w których to reklama była wyświetlana najczęściej. Okazało się, że są to godziny poranne oraz południowe, co jeszcze bardziej utwierdza w przekonaniu, że strona internetowa najczęściej odwiedzana jest przed lub w czasie pracy."
   ]
  },
  {
   "cell_type": "code",
   "execution_count": 23,
   "metadata": {},
   "outputs": [
    {
     "data": {
      "text/plain": [
       "<matplotlib.axes._subplots.AxesSubplot at 0x18473b2e4c8>"
      ]
     },
     "execution_count": 23,
     "metadata": {},
     "output_type": "execute_result"
    },
    {
     "data": {
      "image/png": "[encoded data removed]",
      "text/plain": [
       "<Figure size 432x288 with 1 Axes>"
      ]
     },
     "metadata": {
      "needs_background": "light"
     },
     "output_type": "display_data"
    }
   ],
   "source": [
    "sns.countplot(x='Hour',data=df)"
   ]
  },
  {
   "cell_type": "markdown",
   "metadata": {},
   "source": [
    "Następnym krokiem było podzielenie zbioru danych na zbiór treningowy i testowy według proporcji 70/30 z zachowaniem możliwości odtworzenia podziału."
   ]
  },
  {
   "cell_type": "code",
   "execution_count": 24,
   "metadata": {},
   "outputs": [],
   "source": [
    "from sklearn.model_selection import train_test_split"
   ]
  },
  {
   "cell_type": "code",
   "execution_count": 25,
   "metadata": {},
   "outputs": [],
   "source": [
    "training_data, testing_data = train_test_split(df,test_size=0.3,random_state=42)"
   ]
  },
  {
   "cell_type": "code",
   "execution_count": 26,
   "metadata": {},
   "outputs": [
    {
     "name": "stdout",
     "output_type": "stream",
     "text": [
      "No. of training examples: 70000\n",
      "No. of testing examples: 30000\n"
     ]
    }
   ],
   "source": [
    "print(f\"No. of training examples: {training_data.shape[0]}\")\n",
    "print(f\"No. of testing examples: {testing_data.shape[0]}\")"
   ]
  },
  {
   "cell_type": "code",
   "execution_count": 27,
   "metadata": {},
   "outputs": [
    {
     "data": {
      "text/html": [
       "<div>\n",
       "<style scoped>\n",
       "    .dataframe tbody tr th:only-of-type {\n",
       "        vertical-align: middle;\n",
       "    }\n",
       "\n",
       "    .dataframe tbody tr th {\n",
       "        vertical-align: top;\n",
       "    }\n",
       "\n",
       "    .dataframe thead th {\n",
       "        text-align: right;\n",
       "    }\n",
       "</style>\n",
       "<table border=\"1\" class=\"dataframe\">\n",
       "  <thead>\n",
       "    <tr style=\"text-align: right;\">\n",
       "      <th></th>\n",
       "      <th>ip</th>\n",
       "      <th>variant</th>\n",
       "      <th>device</th>\n",
       "      <th>os</th>\n",
       "      <th>channel</th>\n",
       "      <th>click_time</th>\n",
       "      <th>is_clicked</th>\n",
       "      <th>Hour</th>\n",
       "      <th>Day of Week</th>\n",
       "    </tr>\n",
       "  </thead>\n",
       "  <tbody>\n",
       "    <tr>\n",
       "      <th>76513</th>\n",
       "      <td>116708</td>\n",
       "      <td>3</td>\n",
       "      <td>1</td>\n",
       "      <td>15</td>\n",
       "      <td>135</td>\n",
       "      <td>2017-11-08 14:17:00</td>\n",
       "      <td>0</td>\n",
       "      <td>14</td>\n",
       "      <td>Wed</td>\n",
       "    </tr>\n",
       "    <tr>\n",
       "      <th>60406</th>\n",
       "      <td>167094</td>\n",
       "      <td>14</td>\n",
       "      <td>1</td>\n",
       "      <td>19</td>\n",
       "      <td>134</td>\n",
       "      <td>2017-11-08 17:26:00</td>\n",
       "      <td>0</td>\n",
       "      <td>17</td>\n",
       "      <td>Wed</td>\n",
       "    </tr>\n",
       "    <tr>\n",
       "      <th>27322</th>\n",
       "      <td>42192</td>\n",
       "      <td>2</td>\n",
       "      <td>1</td>\n",
       "      <td>19</td>\n",
       "      <td>477</td>\n",
       "      <td>2017-11-06 16:12:00</td>\n",
       "      <td>0</td>\n",
       "      <td>16</td>\n",
       "      <td>Mon</td>\n",
       "    </tr>\n",
       "    <tr>\n",
       "      <th>53699</th>\n",
       "      <td>45929</td>\n",
       "      <td>26</td>\n",
       "      <td>1</td>\n",
       "      <td>13</td>\n",
       "      <td>121</td>\n",
       "      <td>2017-11-07 11:34:00</td>\n",
       "      <td>0</td>\n",
       "      <td>11</td>\n",
       "      <td>Tue</td>\n",
       "    </tr>\n",
       "    <tr>\n",
       "      <th>65412</th>\n",
       "      <td>32356</td>\n",
       "      <td>232</td>\n",
       "      <td>3866</td>\n",
       "      <td>866</td>\n",
       "      <td>347</td>\n",
       "      <td>2017-11-09 02:16:00</td>\n",
       "      <td>0</td>\n",
       "      <td>2</td>\n",
       "      <td>Thu</td>\n",
       "    </tr>\n",
       "  </tbody>\n",
       "</table>\n",
       "</div>"
      ],
      "text/plain": [
       "           ip  variant  device   os  channel          click_time  is_clicked  \\\n",
       "76513  116708        3       1   15      135 2017-11-08 14:17:00           0   \n",
       "60406  167094       14       1   19      134 2017-11-08 17:26:00           0   \n",
       "27322   42192        2       1   19      477 2017-11-06 16:12:00           0   \n",
       "53699   45929       26       1   13      121 2017-11-07 11:34:00           0   \n",
       "65412   32356      232    3866  866      347 2017-11-09 02:16:00           0   \n",
       "\n",
       "       Hour Day of Week  \n",
       "76513    14         Wed  \n",
       "60406    17         Wed  \n",
       "27322    16         Mon  \n",
       "53699    11         Tue  \n",
       "65412     2         Thu  "
      ]
     },
     "execution_count": 27,
     "metadata": {},
     "output_type": "execute_result"
    }
   ],
   "source": [
    "training_data.head()"
   ]
  },
  {
   "cell_type": "markdown",
   "metadata": {},
   "source": [
    "Na zbiorze treningowym zbadano zależności między zmienną celu a poszczególnymi predyktorami. Wcześniej dokonano analizy dotyczącej tylko wyświetlania reklam. Teraz, postarano się przedstawić kiedy najczęściej klikano w wyświetlaną reklamę. Okazało się, że proporcje zostały zachowane i najczęściej klikano w nią też głównie w środy, wtorki i czwartki."
   ]
  },
  {
   "cell_type": "code",
   "execution_count": 28,
   "metadata": {},
   "outputs": [
    {
     "data": {
      "text/plain": [
       "<matplotlib.axes._subplots.AxesSubplot at 0x184742b2108>"
      ]
     },
     "execution_count": 28,
     "metadata": {},
     "output_type": "execute_result"
    },
    {
     "data": {
      "image/png": "[encoded data removed]",
      "text/plain": [
       "<Figure size 1008x576 with 1 Axes>"
      ]
     },
     "metadata": {
      "needs_background": "light"
     },
     "output_type": "display_data"
    }
   ],
   "source": [
    "plt.figure(figsize=(14,8))\n",
    "sns.countplot(x='Day of Week',data=training_data,hue='is_clicked')"
   ]
  },
  {
   "cell_type": "code",
   "execution_count": 29,
   "metadata": {},
   "outputs": [
    {
     "data": {
      "text/plain": [
       "(0, 100)"
      ]
     },
     "execution_count": 29,
     "metadata": {},
     "output_type": "execute_result"
    },
    {
     "data": {
      "image/png": "[encoded data removed]",
      "text/plain": [
       "<Figure size 1008x576 with 1 Axes>"
      ]
     },
     "metadata": {
      "needs_background": "light"
     },
     "output_type": "display_data"
    }
   ],
   "source": [
    "plt.figure(figsize=(14,8))\n",
    "sns.countplot(x='Day of Week',data=training_data,hue='is_clicked')\n",
    "plt.ylim((0,100))"
   ]
  },
  {
   "cell_type": "markdown",
   "metadata": {},
   "source": [
    "Następnie zobaczono, w jakich godzinach użytkownicy najczęściej klikali w reklamę. Okazało się, że również były to godziny poranne/nocne i południowe."
   ]
  },
  {
   "cell_type": "code",
   "execution_count": 30,
   "metadata": {},
   "outputs": [
    {
     "data": {
      "text/plain": [
       "<matplotlib.axes._subplots.AxesSubplot at 0x18474749588>"
      ]
     },
     "execution_count": 30,
     "metadata": {},
     "output_type": "execute_result"
    },
    {
     "data": {
      "image/png": "[encoded data removed]",
      "text/plain": [
       "<Figure size 1008x576 with 1 Axes>"
      ]
     },
     "metadata": {
      "needs_background": "light"
     },
     "output_type": "display_data"
    }
   ],
   "source": [
    "plt.figure(figsize=(14,8))\n",
    "sns.countplot(x='Hour',data=training_data,hue='is_clicked')"
   ]
  },
  {
   "cell_type": "code",
   "execution_count": 31,
   "metadata": {},
   "outputs": [
    {
     "data": {
      "text/plain": [
       "(0, 20)"
      ]
     },
     "execution_count": 31,
     "metadata": {},
     "output_type": "execute_result"
    },
    {
     "data": {
      "image/png": "[encoded data removed]",
      "text/plain": [
       "<Figure size 1008x576 with 1 Axes>"
      ]
     },
     "metadata": {
      "needs_background": "light"
     },
     "output_type": "display_data"
    }
   ],
   "source": [
    "plt.figure(figsize=(14,8))\n",
    "sns.countplot(x='Hour',data=training_data,hue='is_clicked')\n",
    "plt.ylim((0,20))"
   ]
  },
  {
   "cell_type": "markdown",
   "metadata": {},
   "source": [
    "Kolejnym krokie było sprawdzenie, na którym kanale użytkownicy strony internetowej najczęściej klikali w reklamę. Okazało się, że był to kanał 213, następnie 113 oraz 21."
   ]
  },
  {
   "cell_type": "code",
   "execution_count": 32,
   "metadata": {},
   "outputs": [
    {
     "data": {
      "text/plain": [
       "Text(0.5, 0, 'Channel')"
      ]
     },
     "execution_count": 32,
     "metadata": {},
     "output_type": "execute_result"
    },
    {
     "data": {
      "image/png": "[encoded data removed]",
      "text/plain": [
       "<Figure size 720x432 with 1 Axes>"
      ]
     },
     "metadata": {
      "needs_background": "light"
     },
     "output_type": "display_data"
    }
   ],
   "source": [
    "plt.figure(figsize=(10,6))\n",
    "training_data[training_data['is_clicked']==0]['channel'].hist(alpha=0.5,color='blue',\n",
    "                                              bins=50,label='Ad not clicked')\n",
    "training_data[training_data['is_clicked']==1]['channel'].hist(alpha=0.5,color='red',\n",
    "                                              bins=50,label='Ad clicked')\n",
    "plt.legend()\n",
    "plt.xlabel('Channel')"
   ]
  },
  {
   "cell_type": "code",
   "execution_count": 33,
   "metadata": {},
   "outputs": [
    {
     "data": {
      "text/plain": [
       "Text(0.5, 0, 'Channel')"
      ]
     },
     "execution_count": 33,
     "metadata": {},
     "output_type": "execute_result"
    },
    {
     "data": {
      "image/png": "[encoded data removed]",
      "text/plain": [
       "<Figure size 720x432 with 1 Axes>"
      ]
     },
     "metadata": {
      "needs_background": "light"
     },
     "output_type": "display_data"
    }
   ],
   "source": [
    "plt.figure(figsize=(10,6))\n",
    "training_data[training_data['is_clicked']==1]['channel'].hist(alpha=0.5,color='red',\n",
    "                                              bins=50,label='Ad clicked')\n",
    "plt.legend()\n",
    "plt.xlabel('Channel')"
   ]
  },
  {
   "cell_type": "code",
   "execution_count": 34,
   "metadata": {},
   "outputs": [
    {
     "data": {
      "text/plain": [
       "213    45\n",
       "113    20\n",
       "21     13\n",
       "101    10\n",
       "347     8\n",
       "Name: channel, dtype: int64"
      ]
     },
     "execution_count": 34,
     "metadata": {},
     "output_type": "execute_result"
    }
   ],
   "source": [
    "training_data[training_data['is_clicked']==1]['channel'].value_counts().head(5)"
   ]
  },
  {
   "cell_type": "markdown",
   "metadata": {},
   "source": [
    "Sprawdzono również, w jaką najczęściej reklamę wchodzili użytkownicy. Zdecydowanie przodowała ta z kodem 19. Na drugim miejscu była reklama z kodem 35, a na trzecim, ta z kodem 29."
   ]
  },
  {
   "cell_type": "code",
   "execution_count": 35,
   "metadata": {},
   "outputs": [
    {
     "data": {
      "text/plain": [
       "Text(0.5, 0, 'Variant')"
      ]
     },
     "execution_count": 35,
     "metadata": {},
     "output_type": "execute_result"
    },
    {
     "data": {
      "image/png": "[encoded data removed]",
      "text/plain": [
       "<Figure size 720x432 with 1 Axes>"
      ]
     },
     "metadata": {
      "needs_background": "light"
     },
     "output_type": "display_data"
    }
   ],
   "source": [
    "plt.figure(figsize=(10,6))\n",
    "training_data[training_data['is_clicked']==1]['variant'].hist(alpha=0.5,color='red',\n",
    "                                              bins=50,label='Ad clicked')\n",
    "plt.legend()\n",
    "plt.xlabel('Variant')"
   ]
  },
  {
   "cell_type": "code",
   "execution_count": 36,
   "metadata": {},
   "outputs": [
    {
     "data": {
      "text/plain": [
       "19    44\n",
       "35    16\n",
       "29    13\n",
       "5     12\n",
       "10     9\n",
       "Name: variant, dtype: int64"
      ]
     },
     "execution_count": 36,
     "metadata": {},
     "output_type": "execute_result"
    }
   ],
   "source": [
    "training_data[training_data['is_clicked']==1]['variant'].value_counts().head(5)"
   ]
  },
  {
   "cell_type": "markdown",
   "metadata": {},
   "source": [
    "Wzięto również pod uwagę urządzenie, z którego najczęściej użytkownicy wchodzili w reklamę. Głównie było to urządzenie z kodem 1. "
   ]
  },
  {
   "cell_type": "code",
   "execution_count": 37,
   "metadata": {},
   "outputs": [
    {
     "data": {
      "text/plain": [
       "Text(0.5, 0, 'Device')"
      ]
     },
     "execution_count": 37,
     "metadata": {},
     "output_type": "execute_result"
    },
    {
     "data": {
      "image/png": "[encoded data removed]",
      "text/plain": [
       "<Figure size 720x432 with 1 Axes>"
      ]
     },
     "metadata": {
      "needs_background": "light"
     },
     "output_type": "display_data"
    }
   ],
   "source": [
    "plt.figure(figsize=(10,6))\n",
    "training_data[training_data['is_clicked']==1]['device'].hist(alpha=0.5,color='red',\n",
    "                                              bins=50,label='Ad clicked')\n",
    "plt.legend()\n",
    "plt.xlabel('Device')"
   ]
  },
  {
   "cell_type": "code",
   "execution_count": 38,
   "metadata": {},
   "outputs": [
    {
     "data": {
      "text/plain": [
       "1      94\n",
       "0      34\n",
       "16      2\n",
       "21      2\n",
       "188     1\n",
       "Name: device, dtype: int64"
      ]
     },
     "execution_count": 38,
     "metadata": {},
     "output_type": "execute_result"
    }
   ],
   "source": [
    "training_data[training_data['is_clicked']==1]['device'].value_counts().head(5)"
   ]
  },
  {
   "cell_type": "markdown",
   "metadata": {},
   "source": [
    "Na koniec, przeanalizowano system operacyjny, który najczęśniej był używany w momencie kliknięcia użytkownika w reklamę. Były to głownie systemy opracyjne z kodem 19, 0, 13 i 24."
   ]
  },
  {
   "cell_type": "code",
   "execution_count": 39,
   "metadata": {},
   "outputs": [
    {
     "data": {
      "text/plain": [
       "Text(0.5, 0, 'Operating system')"
      ]
     },
     "execution_count": 39,
     "metadata": {},
     "output_type": "execute_result"
    },
    {
     "data": {
      "image/png": "[encoded data removed]",
      "text/plain": [
       "<Figure size 720x432 with 1 Axes>"
      ]
     },
     "metadata": {
      "needs_background": "light"
     },
     "output_type": "display_data"
    }
   ],
   "source": [
    "plt.figure(figsize=(10,6))\n",
    "training_data[training_data['is_clicked']==1]['os'].hist(alpha=0.5,color='red',\n",
    "                                              bins=50,label='Ad clicked')\n",
    "plt.legend()\n",
    "plt.xlabel('Operating system')"
   ]
  },
  {
   "cell_type": "code",
   "execution_count": 40,
   "metadata": {},
   "outputs": [
    {
     "data": {
      "text/plain": [
       "19    22\n",
       "0     17\n",
       "13    16\n",
       "24    15\n",
       "29     9\n",
       "Name: os, dtype: int64"
      ]
     },
     "execution_count": 40,
     "metadata": {},
     "output_type": "execute_result"
    }
   ],
   "source": [
    "training_data[training_data['is_clicked']==1]['os'].value_counts().head(5)"
   ]
  },
  {
   "cell_type": "markdown",
   "metadata": {},
   "source": [
    "# Modelowanie predykcyjne na próbie uczącej"
   ]
  },
  {
   "cell_type": "markdown",
   "metadata": {},
   "source": [
    "W kolejnej częsci projektu, zabrano się za budowanie różnych modeli predykcyjnych w celu oszacowania pradopodobieństwa kliknięcia w reklamę przez użytkownika strony internetowej."
   ]
  },
  {
   "cell_type": "code",
   "execution_count": 41,
   "metadata": {},
   "outputs": [
    {
     "data": {
      "text/html": [
       "<div>\n",
       "<style scoped>\n",
       "    .dataframe tbody tr th:only-of-type {\n",
       "        vertical-align: middle;\n",
       "    }\n",
       "\n",
       "    .dataframe tbody tr th {\n",
       "        vertical-align: top;\n",
       "    }\n",
       "\n",
       "    .dataframe thead th {\n",
       "        text-align: right;\n",
       "    }\n",
       "</style>\n",
       "<table border=\"1\" class=\"dataframe\">\n",
       "  <thead>\n",
       "    <tr style=\"text-align: right;\">\n",
       "      <th></th>\n",
       "      <th>ip</th>\n",
       "      <th>variant</th>\n",
       "      <th>device</th>\n",
       "      <th>os</th>\n",
       "      <th>channel</th>\n",
       "      <th>click_time</th>\n",
       "      <th>is_clicked</th>\n",
       "      <th>Hour</th>\n",
       "      <th>Day of Week</th>\n",
       "    </tr>\n",
       "  </thead>\n",
       "  <tbody>\n",
       "    <tr>\n",
       "      <th>76513</th>\n",
       "      <td>116708</td>\n",
       "      <td>3</td>\n",
       "      <td>1</td>\n",
       "      <td>15</td>\n",
       "      <td>135</td>\n",
       "      <td>2017-11-08 14:17:00</td>\n",
       "      <td>0</td>\n",
       "      <td>14</td>\n",
       "      <td>Wed</td>\n",
       "    </tr>\n",
       "    <tr>\n",
       "      <th>60406</th>\n",
       "      <td>167094</td>\n",
       "      <td>14</td>\n",
       "      <td>1</td>\n",
       "      <td>19</td>\n",
       "      <td>134</td>\n",
       "      <td>2017-11-08 17:26:00</td>\n",
       "      <td>0</td>\n",
       "      <td>17</td>\n",
       "      <td>Wed</td>\n",
       "    </tr>\n",
       "    <tr>\n",
       "      <th>27322</th>\n",
       "      <td>42192</td>\n",
       "      <td>2</td>\n",
       "      <td>1</td>\n",
       "      <td>19</td>\n",
       "      <td>477</td>\n",
       "      <td>2017-11-06 16:12:00</td>\n",
       "      <td>0</td>\n",
       "      <td>16</td>\n",
       "      <td>Mon</td>\n",
       "    </tr>\n",
       "    <tr>\n",
       "      <th>53699</th>\n",
       "      <td>45929</td>\n",
       "      <td>26</td>\n",
       "      <td>1</td>\n",
       "      <td>13</td>\n",
       "      <td>121</td>\n",
       "      <td>2017-11-07 11:34:00</td>\n",
       "      <td>0</td>\n",
       "      <td>11</td>\n",
       "      <td>Tue</td>\n",
       "    </tr>\n",
       "    <tr>\n",
       "      <th>65412</th>\n",
       "      <td>32356</td>\n",
       "      <td>232</td>\n",
       "      <td>3866</td>\n",
       "      <td>866</td>\n",
       "      <td>347</td>\n",
       "      <td>2017-11-09 02:16:00</td>\n",
       "      <td>0</td>\n",
       "      <td>2</td>\n",
       "      <td>Thu</td>\n",
       "    </tr>\n",
       "  </tbody>\n",
       "</table>\n",
       "</div>"
      ],
      "text/plain": [
       "           ip  variant  device   os  channel          click_time  is_clicked  \\\n",
       "76513  116708        3       1   15      135 2017-11-08 14:17:00           0   \n",
       "60406  167094       14       1   19      134 2017-11-08 17:26:00           0   \n",
       "27322   42192        2       1   19      477 2017-11-06 16:12:00           0   \n",
       "53699   45929       26       1   13      121 2017-11-07 11:34:00           0   \n",
       "65412   32356      232    3866  866      347 2017-11-09 02:16:00           0   \n",
       "\n",
       "       Hour Day of Week  \n",
       "76513    14         Wed  \n",
       "60406    17         Wed  \n",
       "27322    16         Mon  \n",
       "53699    11         Tue  \n",
       "65412     2         Thu  "
      ]
     },
     "execution_count": 41,
     "metadata": {},
     "output_type": "execute_result"
    }
   ],
   "source": [
    "training_data.head()"
   ]
  },
  {
   "cell_type": "code",
   "execution_count": 42,
   "metadata": {},
   "outputs": [
    {
     "data": {
      "text/plain": [
       "Index(['ip', 'variant', 'device', 'os', 'channel', 'click_time', 'is_clicked',\n",
       "       'Hour', 'Day of Week'],\n",
       "      dtype='object')"
      ]
     },
     "execution_count": 42,
     "metadata": {},
     "output_type": "execute_result"
    }
   ],
   "source": [
    "training_data.columns"
   ]
  },
  {
   "cell_type": "code",
   "execution_count": 43,
   "metadata": {},
   "outputs": [],
   "source": [
    "X = training_data[['ip', 'variant', 'device','os', 'channel']]\n",
    "y = training_data['is_clicked']"
   ]
  },
  {
   "cell_type": "code",
   "execution_count": 44,
   "metadata": {},
   "outputs": [],
   "source": [
    "X_train, X_test, y_train, y_test = train_test_split(X,y,test_size=0.3,random_state=42)"
   ]
  },
  {
   "cell_type": "markdown",
   "metadata": {},
   "source": [
    "# Regresja logistyczna"
   ]
  },
  {
   "cell_type": "code",
   "execution_count": 45,
   "metadata": {},
   "outputs": [],
   "source": [
    "from sklearn.linear_model import LogisticRegression"
   ]
  },
  {
   "cell_type": "code",
   "execution_count": 46,
   "metadata": {},
   "outputs": [],
   "source": [
    "logmodel = LogisticRegression()"
   ]
  },
  {
   "cell_type": "code",
   "execution_count": 47,
   "metadata": {},
   "outputs": [
    {
     "data": {
      "text/plain": [
       "LogisticRegression(C=1.0, class_weight=None, dual=False, fit_intercept=True,\n",
       "                   intercept_scaling=1, l1_ratio=None, max_iter=100,\n",
       "                   multi_class='auto', n_jobs=None, penalty='l2',\n",
       "                   random_state=None, solver='lbfgs', tol=0.0001, verbose=0,\n",
       "                   warm_start=False)"
      ]
     },
     "execution_count": 47,
     "metadata": {},
     "output_type": "execute_result"
    }
   ],
   "source": [
    "logmodel.fit(X_train,y_train)"
   ]
  },
  {
   "cell_type": "code",
   "execution_count": 48,
   "metadata": {},
   "outputs": [],
   "source": [
    "probs = logmodel.predict_proba(X_test)"
   ]
  },
  {
   "cell_type": "code",
   "execution_count": 49,
   "metadata": {},
   "outputs": [
    {
     "data": {
      "text/plain": [
       "array([[9.99994551e-01, 5.44905550e-06],\n",
       "       [9.99966899e-01, 3.31009568e-05],\n",
       "       [9.80620426e-01, 1.93795742e-02],\n",
       "       ...,\n",
       "       [9.99989235e-01, 1.07646035e-05],\n",
       "       [9.99811296e-01, 1.88703610e-04],\n",
       "       [9.99785639e-01, 2.14361315e-04]])"
      ]
     },
     "execution_count": 49,
     "metadata": {},
     "output_type": "execute_result"
    }
   ],
   "source": [
    "probs"
   ]
  },
  {
   "cell_type": "code",
   "execution_count": 50,
   "metadata": {},
   "outputs": [],
   "source": [
    "from sklearn.metrics import roc_auc_score, roc_curve, accuracy_score, confusion_matrix"
   ]
  },
  {
   "cell_type": "code",
   "execution_count": 51,
   "metadata": {},
   "outputs": [],
   "source": [
    "y_pred = np.argmax(probs, axis=1)"
   ]
  },
  {
   "cell_type": "code",
   "execution_count": 52,
   "metadata": {},
   "outputs": [],
   "source": [
    "y_true = np.array(y_test)"
   ]
  },
  {
   "cell_type": "code",
   "execution_count": 53,
   "metadata": {},
   "outputs": [
    {
     "name": "stdout",
     "output_type": "stream",
     "text": [
      "Confusion Matrix : \n",
      " [[20961     0]\n",
      " [   39     0]]\n",
      "\n",
      "\n",
      "Accuracy :  0.9981428571428571\n",
      "\n",
      "\n",
      "Sensitivity :  1.0\n",
      "\n",
      "\n",
      "Specificity :  0.0\n",
      "\n",
      "\n",
      "F1 Score :  0.9990705655251304\n"
     ]
    }
   ],
   "source": [
    "cm = confusion_matrix(y_true,y_pred)\n",
    "print('Confusion Matrix : \\n', cm)\n",
    "\n",
    "print('\\n')\n",
    "\n",
    "total=sum(sum(cm))\n",
    "\n",
    "accuracy=(cm[0,0]+cm[1,1])/total\n",
    "print ('Accuracy : ', accuracy)\n",
    "\n",
    "print('\\n')\n",
    "\n",
    "sensitivity = cm[0,0]/(cm[0,0]+cm[0,1])\n",
    "print('Sensitivity : ', sensitivity )\n",
    "\n",
    "print('\\n')\n",
    "\n",
    "specificity = cm[1,1]/(cm[1,0]+cm[1,1])\n",
    "print('Specificity : ', specificity)\n",
    "\n",
    "print('\\n')\n",
    "\n",
    "precision = cm[0,0]/(cm[0,0]+cm[1,0])\n",
    "\n",
    "f1 = (2*precision*sensitivity)/(precision+sensitivity)\n",
    "print('F1 Score : ',f1)"
   ]
  },
  {
   "cell_type": "markdown",
   "metadata": {},
   "source": [
    "W przypadku regresji logistycznej dokładność modelu uplasowała się na poziomie 99.8%, przy czym czułość, czyli odsetek zdarzeń prawdziwie pozytywnych wyniosła 99.9%, a swoistość, czyli odsetek zdarzeń prawdziwie negatywnych 0.0%. Średnia harmoniczna (F1) wartości precyzji i czułości uplasowała się na poziomie 99.8%"
   ]
  },
  {
   "cell_type": "code",
   "execution_count": 54,
   "metadata": {},
   "outputs": [],
   "source": [
    "probs = probs[:,1]"
   ]
  },
  {
   "cell_type": "code",
   "execution_count": 55,
   "metadata": {},
   "outputs": [
    {
     "name": "stdout",
     "output_type": "stream",
     "text": [
      "Logistic Regression AUCROC : 0.5803\n"
     ]
    }
   ],
   "source": [
    "aucroc = roc_auc_score(y_test,probs)\n",
    "print('Logistic Regression AUCROC : %.4f' % (aucroc))"
   ]
  },
  {
   "cell_type": "code",
   "execution_count": 56,
   "metadata": {},
   "outputs": [
    {
     "data": {
      "text/plain": [
       "<matplotlib.legend.Legend at 0x1847916bfc8>"
      ]
     },
     "execution_count": 56,
     "metadata": {},
     "output_type": "execute_result"
    },
    {
     "data": {
      "image/png": "[encoded data removed]",
      "text/plain": [
       "<Figure size 720x504 with 1 Axes>"
      ]
     },
     "metadata": {
      "needs_background": "light"
     },
     "output_type": "display_data"
    }
   ],
   "source": [
    "r_probs = [0 for _ in range(len(y_test))]\n",
    "r_aucroc = roc_auc_score(y_test,r_probs)\n",
    "\n",
    "r_fpr, r_tpr, _ = roc_curve(y_test,r_probs)\n",
    "fpr, tpr, _ = roc_curve(y_test,probs)\n",
    "\n",
    "plt.figure(figsize=(10,7))\n",
    "plt.plot(r_fpr, r_tpr, linestyle = '--', label = 'Random prediction (AUCROC = %.4f)' % r_aucroc)\n",
    "plt.plot(fpr, tpr, marker = '.', label = 'Logistic Regression (AUCROC = %.4f)' % aucroc)\n",
    "\n",
    "plt.title('ROC Curve')\n",
    "plt.xlabel('False Positive Rate')\n",
    "plt.ylabel('True Positive Rate')\n",
    "plt.legend()"
   ]
  },
  {
   "cell_type": "markdown",
   "metadata": {},
   "source": [
    "W celu dokonania oceny modelu regresji logistycznej naszkicowano krzywą ROC oraz policzono dla niej pole po krzywą. Można wywnioskować, że model ten jest słabo dopasowany do naszych danych, ponieważ krzywa ROC jest bardzo bliska losowemu dopasowaniu, a pole pod krzywą zdecydowanie odbiega od 1, która wskazuje idealne dopasowanie modelu."
   ]
  },
  {
   "cell_type": "markdown",
   "metadata": {},
   "source": [
    "# Random Forest"
   ]
  },
  {
   "cell_type": "code",
   "execution_count": 57,
   "metadata": {},
   "outputs": [],
   "source": [
    "from sklearn.ensemble import RandomForestClassifier"
   ]
  },
  {
   "cell_type": "code",
   "execution_count": 58,
   "metadata": {},
   "outputs": [],
   "source": [
    "rand_forest = RandomForestClassifier(n_estimators=100)"
   ]
  },
  {
   "cell_type": "code",
   "execution_count": 59,
   "metadata": {},
   "outputs": [
    {
     "data": {
      "text/plain": [
       "RandomForestClassifier(bootstrap=True, ccp_alpha=0.0, class_weight=None,\n",
       "                       criterion='gini', max_depth=None, max_features='auto',\n",
       "                       max_leaf_nodes=None, max_samples=None,\n",
       "                       min_impurity_decrease=0.0, min_impurity_split=None,\n",
       "                       min_samples_leaf=1, min_samples_split=2,\n",
       "                       min_weight_fraction_leaf=0.0, n_estimators=100,\n",
       "                       n_jobs=None, oob_score=False, random_state=None,\n",
       "                       verbose=0, warm_start=False)"
      ]
     },
     "execution_count": 59,
     "metadata": {},
     "output_type": "execute_result"
    }
   ],
   "source": [
    "rand_forest.fit(X_train,y_train)"
   ]
  },
  {
   "cell_type": "code",
   "execution_count": 60,
   "metadata": {},
   "outputs": [],
   "source": [
    "rand_forest_prob = rand_forest.predict_proba(X_test)"
   ]
  },
  {
   "cell_type": "code",
   "execution_count": 61,
   "metadata": {},
   "outputs": [],
   "source": [
    "y_pred_rf = np.argmax(rand_forest_prob, axis=1)"
   ]
  },
  {
   "cell_type": "code",
   "execution_count": 62,
   "metadata": {},
   "outputs": [],
   "source": [
    "y_true_rf = np.array(y_test)"
   ]
  },
  {
   "cell_type": "code",
   "execution_count": 63,
   "metadata": {},
   "outputs": [
    {
     "name": "stdout",
     "output_type": "stream",
     "text": [
      "Confusion Matrix : \n",
      " [[20956     5]\n",
      " [   30     9]]\n",
      "\n",
      "\n",
      "Accuracy :  0.9983333333333333\n",
      "\n",
      "\n",
      "Sensitivity :  0.9997614617623205\n",
      "\n",
      "\n",
      "Specificity :  0.23076923076923078\n",
      "\n",
      "\n",
      "F1 Score :  0.9990705655251304\n"
     ]
    }
   ],
   "source": [
    "cm2 = confusion_matrix(y_true_rf,y_pred_rf)\n",
    "print('Confusion Matrix : \\n', cm2)\n",
    "\n",
    "print('\\n')\n",
    "\n",
    "total2=sum(sum(cm2))\n",
    "\n",
    "accuracy_rf=(cm2[0,0]+cm2[1,1])/total2\n",
    "print ('Accuracy : ', accuracy_rf)\n",
    "\n",
    "print('\\n')\n",
    "\n",
    "sensitivity_rf = cm2[0,0]/(cm2[0,0]+cm2[0,1])\n",
    "print('Sensitivity : ', sensitivity_rf )\n",
    "\n",
    "print('\\n')\n",
    "\n",
    "specificity_rf = cm2[1,1]/(cm2[1,0]+cm2[1,1])\n",
    "print('Specificity : ', specificity_rf)\n",
    "\n",
    "print('\\n')\n",
    "\n",
    "precision_rf = cm2[0,0]/(cm2[0,0]+cm2[1,0])\n",
    "\n",
    "f1_rf = (2*precision_rf*sensitivity_rf)/(precision_rf+sensitivity_rf)\n",
    "print('F1 Score : ',f1)"
   ]
  },
  {
   "cell_type": "code",
   "execution_count": 64,
   "metadata": {},
   "outputs": [],
   "source": [
    "rand_forest_prob = rand_forest_prob[:,1]"
   ]
  },
  {
   "cell_type": "code",
   "execution_count": 65,
   "metadata": {},
   "outputs": [
    {
     "name": "stdout",
     "output_type": "stream",
     "text": [
      "Random Forest AUCROC : 0.9178\n"
     ]
    }
   ],
   "source": [
    "aucroc2 = roc_auc_score(y_test,rand_forest_prob)\n",
    "print('Random Forest AUCROC : %.4f' % (aucroc2))"
   ]
  },
  {
   "cell_type": "markdown",
   "metadata": {},
   "source": [
    "W przypadku modelu lasu losowego, pole pod krzywą jest stosunkowo bliskie 1, co świadczy o dobrze dopasowanym modelu. Dokładność modelu wynosi 99.8%, czułość 99.9%, a swoistość 23%. Średnia harmoniczna w modelu lasu losowego wynosi 99.8%."
   ]
  },
  {
   "cell_type": "markdown",
   "metadata": {},
   "source": [
    "# Gradient Boosting"
   ]
  },
  {
   "cell_type": "code",
   "execution_count": 66,
   "metadata": {},
   "outputs": [],
   "source": [
    "from xgboost import XGBClassifier"
   ]
  },
  {
   "cell_type": "code",
   "execution_count": 67,
   "metadata": {},
   "outputs": [],
   "source": [
    "xgboost = XGBClassifier()"
   ]
  },
  {
   "cell_type": "code",
   "execution_count": 68,
   "metadata": {},
   "outputs": [
    {
     "name": "stderr",
     "output_type": "stream",
     "text": [
      "C:\\Users\\USER\\anaconda3\\lib\\site-packages\\xgboost\\sklearn.py:1146: UserWarning: The use of label encoder in XGBClassifier is deprecated and will be removed in a future release. To remove this warning, do the following: 1) Pass option use_label_encoder=False when constructing XGBClassifier object; and 2) Encode your labels (y) as integers starting with 0, i.e. 0, 1, 2, ..., [num_class - 1].\n",
      "  warnings.warn(label_encoder_deprecation_msg, UserWarning)\n"
     ]
    },
    {
     "name": "stdout",
     "output_type": "stream",
     "text": [
      "[15:35:26] WARNING: C:/Users/Administrator/workspace/xgboost-win64_release_1.4.0/src/learner.cc:1095: Starting in XGBoost 1.3.0, the default evaluation metric used with the objective 'binary:logistic' was changed from 'error' to 'logloss'. Explicitly set eval_metric if you'd like to restore the old behavior.\n"
     ]
    },
    {
     "data": {
      "text/plain": [
       "XGBClassifier(base_score=0.5, booster='gbtree', colsample_bylevel=1,\n",
       "              colsample_bynode=1, colsample_bytree=1, gamma=0, gpu_id=-1,\n",
       "              importance_type='gain', interaction_constraints='',\n",
       "              learning_rate=0.300000012, max_delta_step=0, max_depth=6,\n",
       "              min_child_weight=1, missing=nan, monotone_constraints='()',\n",
       "              n_estimators=100, n_jobs=8, num_parallel_tree=1,\n",
       "              objective='binary:logistic', random_state=0, reg_alpha=0,\n",
       "              reg_lambda=1, scale_pos_weight=1, subsample=1,\n",
       "              tree_method='exact', use_label_encoder=True,\n",
       "              validate_parameters=1, verbosity=None)"
      ]
     },
     "execution_count": 68,
     "metadata": {},
     "output_type": "execute_result"
    }
   ],
   "source": [
    "xgboost.fit(X_train,y_train)"
   ]
  },
  {
   "cell_type": "code",
   "execution_count": 69,
   "metadata": {},
   "outputs": [],
   "source": [
    "xgboost_prob = xgboost.predict_proba(X_test)"
   ]
  },
  {
   "cell_type": "code",
   "execution_count": 70,
   "metadata": {},
   "outputs": [],
   "source": [
    "y_pred_xgb = np.argmax(xgboost_prob, axis=1)\n",
    "y_true_xgb = np.array(y_test)"
   ]
  },
  {
   "cell_type": "code",
   "execution_count": 71,
   "metadata": {},
   "outputs": [
    {
     "name": "stdout",
     "output_type": "stream",
     "text": [
      "Confusion Matrix : \n",
      " [[20955     6]\n",
      " [   30     9]]\n",
      "\n",
      "\n",
      "Accuracy :  0.9982857142857143\n",
      "\n",
      "\n",
      "Sensitivity :  0.9997137541147846\n",
      "\n",
      "\n",
      "Specificity :  0.23076923076923078\n",
      "\n",
      "\n",
      "F1 Score :  0.9990705655251304\n"
     ]
    }
   ],
   "source": [
    "cm3 = confusion_matrix(y_true_xgb,y_pred_xgb)\n",
    "print('Confusion Matrix : \\n', cm3)\n",
    "\n",
    "print('\\n')\n",
    "\n",
    "total3=sum(sum(cm3))\n",
    "\n",
    "accuracy_xgb=(cm3[0,0]+cm3[1,1])/total3\n",
    "print ('Accuracy : ', accuracy_xgb)\n",
    "\n",
    "print('\\n')\n",
    "\n",
    "sensitivity_xgb = cm3[0,0]/(cm3[0,0]+cm3[0,1])\n",
    "print('Sensitivity : ', sensitivity_xgb )\n",
    "\n",
    "print('\\n')\n",
    "\n",
    "specificity_xgb = cm3[1,1]/(cm3[1,0]+cm3[1,1])\n",
    "print('Specificity : ', specificity_xgb)\n",
    "\n",
    "print('\\n')\n",
    "\n",
    "precision_xgb = cm3[0,0]/(cm3[0,0]+cm3[1,0])\n",
    "\n",
    "f1_rf = (2*precision_xgb*sensitivity_xgb)/(precision_xgb+sensitivity_xgb)\n",
    "print('F1 Score : ',f1)"
   ]
  },
  {
   "cell_type": "code",
   "execution_count": 72,
   "metadata": {},
   "outputs": [],
   "source": [
    "xgboost_prob = xgboost_prob[:,1]"
   ]
  },
  {
   "cell_type": "code",
   "execution_count": 73,
   "metadata": {},
   "outputs": [
    {
     "name": "stdout",
     "output_type": "stream",
     "text": [
      "XGBoost AUCROC : 0.9463\n"
     ]
    }
   ],
   "source": [
    "aucroc3 = roc_auc_score(y_test,xgboost_prob)\n",
    "print('XGBoost AUCROC : %.4f' % (aucroc3))"
   ]
  },
  {
   "cell_type": "markdown",
   "metadata": {},
   "source": [
    "Pole pod krzywą ROC w przypadku boostingu gradientowego wyniosło 0.9463, co jest zdecydowanie póki co najlpeszym wynikiem, świadczącym o dobrze dopasowanym modelu. "
   ]
  },
  {
   "cell_type": "markdown",
   "metadata": {},
   "source": [
    "# CatBoost Model"
   ]
  },
  {
   "cell_type": "code",
   "execution_count": 74,
   "metadata": {},
   "outputs": [],
   "source": [
    "from catboost import CatBoostClassifier"
   ]
  },
  {
   "cell_type": "code",
   "execution_count": 75,
   "metadata": {},
   "outputs": [],
   "source": [
    "catboost = CatBoostClassifier(iterations=2,learning_rate=1,depth=2)"
   ]
  },
  {
   "cell_type": "code",
   "execution_count": 76,
   "metadata": {},
   "outputs": [
    {
     "name": "stdout",
     "output_type": "stream",
     "text": [
      "0:\tlearn: 0.1325475\ttotal: 167ms\tremaining: 167ms\n",
      "1:\tlearn: 0.0506957\ttotal: 179ms\tremaining: 0us\n"
     ]
    },
    {
     "data": {
      "text/plain": [
       "<catboost.core.CatBoostClassifier at 0x1847ad08748>"
      ]
     },
     "execution_count": 76,
     "metadata": {},
     "output_type": "execute_result"
    }
   ],
   "source": [
    "catboost.fit(X_train,y_train)"
   ]
  },
  {
   "cell_type": "code",
   "execution_count": 77,
   "metadata": {},
   "outputs": [],
   "source": [
    "catboost_prob = catboost.predict_proba(X_test)"
   ]
  },
  {
   "cell_type": "code",
   "execution_count": 78,
   "metadata": {},
   "outputs": [],
   "source": [
    "y_pred_cb = np.argmax(catboost_prob, axis=1)\n",
    "y_true_cb = np.array(y_test)"
   ]
  },
  {
   "cell_type": "code",
   "execution_count": 79,
   "metadata": {},
   "outputs": [
    {
     "name": "stdout",
     "output_type": "stream",
     "text": [
      "Confusion Matrix : \n",
      " [[20961     0]\n",
      " [   39     0]]\n",
      "\n",
      "\n",
      "Accuracy :  0.9981428571428571\n",
      "\n",
      "\n",
      "Sensitivity :  1.0\n",
      "\n",
      "\n",
      "Specificity :  0.0\n",
      "\n",
      "\n",
      "F1 Score :  0.9990705655251304\n"
     ]
    }
   ],
   "source": [
    "cm4 = confusion_matrix(y_true_cb,y_pred_cb)\n",
    "print('Confusion Matrix : \\n', cm4)\n",
    "\n",
    "print('\\n')\n",
    "\n",
    "total4=sum(sum(cm4))\n",
    "\n",
    "accuracy_cb=(cm4[0,0]+cm4[1,1])/total4\n",
    "print ('Accuracy : ', accuracy_cb)\n",
    "\n",
    "print('\\n')\n",
    "\n",
    "sensitivity_cb = cm4[0,0]/(cm4[0,0]+cm4[0,1])\n",
    "print('Sensitivity : ', sensitivity_cb )\n",
    "\n",
    "print('\\n')\n",
    "\n",
    "specificity_cb = cm4[1,1]/(cm4[1,0]+cm4[1,1])\n",
    "print('Specificity : ', specificity_cb)\n",
    "\n",
    "print('\\n')\n",
    "\n",
    "precision_cb = cm4[0,0]/(cm4[0,0]+cm4[1,0])\n",
    "\n",
    "f1_rf = (2*precision_cb*sensitivity_cb)/(precision_cb+sensitivity_cb)\n",
    "print('F1 Score : ',f1)"
   ]
  },
  {
   "cell_type": "code",
   "execution_count": 80,
   "metadata": {},
   "outputs": [],
   "source": [
    "catboost_prob = catboost_prob[:,1]"
   ]
  },
  {
   "cell_type": "code",
   "execution_count": 81,
   "metadata": {},
   "outputs": [
    {
     "name": "stdout",
     "output_type": "stream",
     "text": [
      "CatBoost AUCROC : 0.7287\n"
     ]
    }
   ],
   "source": [
    "aucroc4 = roc_auc_score(y_test,catboost_prob)\n",
    "print('CatBoost AUCROC : %.4f' % (aucroc4))"
   ]
  },
  {
   "cell_type": "markdown",
   "metadata": {},
   "source": [
    "Model CatBoost osiągnąl pole pod krzywą ROC w wysokości 0.7287, co świadczy o znacznie słabszym dopasowaniu modelu od poprzedniego."
   ]
  },
  {
   "cell_type": "markdown",
   "metadata": {},
   "source": [
    "# LightGBM Model"
   ]
  },
  {
   "cell_type": "code",
   "execution_count": 82,
   "metadata": {},
   "outputs": [],
   "source": [
    "import lightgbm as lgb"
   ]
  },
  {
   "cell_type": "code",
   "execution_count": 83,
   "metadata": {},
   "outputs": [],
   "source": [
    "lgbm = lgb.LGBMClassifier()"
   ]
  },
  {
   "cell_type": "code",
   "execution_count": 84,
   "metadata": {},
   "outputs": [
    {
     "data": {
      "text/plain": [
       "LGBMClassifier(boosting_type='gbdt', class_weight=None, colsample_bytree=1.0,\n",
       "               importance_type='split', learning_rate=0.1, max_depth=-1,\n",
       "               min_child_samples=20, min_child_weight=0.001, min_split_gain=0.0,\n",
       "               n_estimators=100, n_jobs=-1, num_leaves=31, objective=None,\n",
       "               random_state=None, reg_alpha=0.0, reg_lambda=0.0, silent=True,\n",
       "               subsample=1.0, subsample_for_bin=200000, subsample_freq=0)"
      ]
     },
     "execution_count": 84,
     "metadata": {},
     "output_type": "execute_result"
    }
   ],
   "source": [
    "lgbm.fit(X_train,y_train)"
   ]
  },
  {
   "cell_type": "code",
   "execution_count": 85,
   "metadata": {},
   "outputs": [],
   "source": [
    "lgbm_prob = lgbm.predict_proba(X_test)"
   ]
  },
  {
   "cell_type": "code",
   "execution_count": 86,
   "metadata": {},
   "outputs": [],
   "source": [
    "y_pred_lgbm = np.argmax(lgbm_prob, axis=1)\n",
    "y_true_lgbm = np.array(y_test)"
   ]
  },
  {
   "cell_type": "code",
   "execution_count": 87,
   "metadata": {},
   "outputs": [
    {
     "name": "stdout",
     "output_type": "stream",
     "text": [
      "Confusion Matrix : \n",
      " [[20925    36]\n",
      " [   34     5]]\n",
      "\n",
      "\n",
      "Accuracy :  0.9966666666666667\n",
      "\n",
      "\n",
      "Sensitivity :  0.9982825246887076\n",
      "\n",
      "\n",
      "Specificity :  0.1282051282051282\n",
      "\n",
      "\n",
      "F1 Score :  0.9990705655251304\n"
     ]
    }
   ],
   "source": [
    "cm5 = confusion_matrix(y_true_lgbm,y_pred_lgbm)\n",
    "print('Confusion Matrix : \\n', cm5)\n",
    "\n",
    "print('\\n')\n",
    "\n",
    "total5=sum(sum(cm5))\n",
    "\n",
    "accuracy_lgbm=(cm5[0,0]+cm5[1,1])/total5\n",
    "print ('Accuracy : ', accuracy_lgbm)\n",
    "\n",
    "print('\\n')\n",
    "\n",
    "sensitivity_lgbm = cm5[0,0]/(cm5[0,0]+cm5[0,1])\n",
    "print('Sensitivity : ', sensitivity_lgbm )\n",
    "\n",
    "print('\\n')\n",
    "\n",
    "specificity_lgbm = cm5[1,1]/(cm5[1,0]+cm5[1,1])\n",
    "print('Specificity : ', specificity_lgbm)\n",
    "\n",
    "print('\\n')\n",
    "\n",
    "precision_lgbm = cm5[0,0]/(cm5[0,0]+cm5[1,0])\n",
    "\n",
    "f1_rf = (2*precision_lgbm*sensitivity_lgbm)/(precision_lgbm+sensitivity_lgbm)\n",
    "print('F1 Score : ',f1)"
   ]
  },
  {
   "cell_type": "code",
   "execution_count": 88,
   "metadata": {},
   "outputs": [],
   "source": [
    "lgbm_prob = lgbm_prob[:,1]"
   ]
  },
  {
   "cell_type": "code",
   "execution_count": 89,
   "metadata": {},
   "outputs": [
    {
     "name": "stdout",
     "output_type": "stream",
     "text": [
      "LightGBM AUCROC : 0.8132\n"
     ]
    }
   ],
   "source": [
    "aucroc5 = roc_auc_score(y_test,lgbm_prob)\n",
    "print('LightGBM AUCROC : %.4f' % (aucroc5))"
   ]
  },
  {
   "cell_type": "markdown",
   "metadata": {},
   "source": [
    "Model LightGBM okazał się być nieco lepszym od modelu CatBoost z polem pod krzywą ROC wynoszącym 0.8132."
   ]
  },
  {
   "cell_type": "markdown",
   "metadata": {},
   "source": [
    "# Decision Tree"
   ]
  },
  {
   "cell_type": "markdown",
   "metadata": {},
   "source": [
    "Zdecydowano się na zastosowanie drzewa decyzyjnego do badanych danych, ponieważ jest to ważne narzędzie w uczeniu maszynowym. Algorytm ten dobrze nadaje się do rozwiązywania problemu klasyfikacji, czyli w tym przypadku określenia czy użytkownik strony internetowej kliknął w reklamę, biorąc pod uwagę istotne zmienne."
   ]
  },
  {
   "cell_type": "code",
   "execution_count": 90,
   "metadata": {},
   "outputs": [],
   "source": [
    "from sklearn.tree import DecisionTreeClassifier"
   ]
  },
  {
   "cell_type": "code",
   "execution_count": 91,
   "metadata": {},
   "outputs": [],
   "source": [
    "dtree = DecisionTreeClassifier()"
   ]
  },
  {
   "cell_type": "code",
   "execution_count": 92,
   "metadata": {},
   "outputs": [
    {
     "data": {
      "text/plain": [
       "DecisionTreeClassifier(ccp_alpha=0.0, class_weight=None, criterion='gini',\n",
       "                       max_depth=None, max_features=None, max_leaf_nodes=None,\n",
       "                       min_impurity_decrease=0.0, min_impurity_split=None,\n",
       "                       min_samples_leaf=1, min_samples_split=2,\n",
       "                       min_weight_fraction_leaf=0.0, presort='deprecated',\n",
       "                       random_state=None, splitter='best')"
      ]
     },
     "execution_count": 92,
     "metadata": {},
     "output_type": "execute_result"
    }
   ],
   "source": [
    "dtree.fit(X_train,y_train)"
   ]
  },
  {
   "cell_type": "code",
   "execution_count": 93,
   "metadata": {},
   "outputs": [],
   "source": [
    "dtree_prob = dtree.predict_proba(X_test)"
   ]
  },
  {
   "cell_type": "code",
   "execution_count": 94,
   "metadata": {},
   "outputs": [],
   "source": [
    "y_pred_dtree = np.argmax(dtree_prob, axis=1)\n",
    "y_true_dtree = np.array(y_test)"
   ]
  },
  {
   "cell_type": "code",
   "execution_count": 95,
   "metadata": {},
   "outputs": [
    {
     "name": "stdout",
     "output_type": "stream",
     "text": [
      "Confusion Matrix : \n",
      " [[20936    25]\n",
      " [   29    10]]\n",
      "\n",
      "\n",
      "Accuracy :  0.9974285714285714\n",
      "\n",
      "\n",
      "Sensitivity :  0.9988073088116025\n",
      "\n",
      "\n",
      "Specificity :  0.2564102564102564\n",
      "\n",
      "\n",
      "F1 Score :  0.9990705655251304\n"
     ]
    }
   ],
   "source": [
    "cm6 = confusion_matrix(y_true_dtree,y_pred_dtree)\n",
    "print('Confusion Matrix : \\n', cm6)\n",
    "\n",
    "print('\\n')\n",
    "\n",
    "total6=sum(sum(cm6))\n",
    "\n",
    "accuracy_dtree=(cm6[0,0]+cm6[1,1])/total6\n",
    "print ('Accuracy : ', accuracy_dtree)\n",
    "\n",
    "print('\\n')\n",
    "\n",
    "sensitivity_dtree = cm6[0,0]/(cm6[0,0]+cm6[0,1])\n",
    "print('Sensitivity : ', sensitivity_dtree )\n",
    "\n",
    "print('\\n')\n",
    "\n",
    "specificity_dtree = cm6[1,1]/(cm6[1,0]+cm6[1,1])\n",
    "print('Specificity : ', specificity_dtree)\n",
    "\n",
    "print('\\n')\n",
    "\n",
    "precision_dtree = cm6[0,0]/(cm6[0,0]+cm6[1,0])\n",
    "\n",
    "f1_rf = (2*precision_dtree*sensitivity_dtree)/(precision_dtree+sensitivity_dtree)\n",
    "print('F1 Score : ',f1)"
   ]
  },
  {
   "cell_type": "code",
   "execution_count": 96,
   "metadata": {},
   "outputs": [],
   "source": [
    "dtree_prob = dtree_prob[:,1]"
   ]
  },
  {
   "cell_type": "code",
   "execution_count": 97,
   "metadata": {},
   "outputs": [
    {
     "name": "stdout",
     "output_type": "stream",
     "text": [
      "Decision Tree AUCROC : 0.6276\n"
     ]
    }
   ],
   "source": [
    "aucroc6 = roc_auc_score(y_test,dtree_prob)\n",
    "print('Decision Tree AUCROC : %.4f' % (aucroc6))"
   ]
  },
  {
   "cell_type": "markdown",
   "metadata": {},
   "source": [
    "Model drzewa decyzyjnego dał znacznie słabszą predykcję, z polem pod krzywą wynoszącym 0.6276."
   ]
  },
  {
   "cell_type": "markdown",
   "metadata": {},
   "source": [
    "# Neural Network"
   ]
  },
  {
   "cell_type": "markdown",
   "metadata": {},
   "source": [
    "Sieci neuronowe to zestaw algorytmów, luźno wzorowanych na ludzkim mózgu, które są zaprojektowane do rozpoznawania wzorców. Mogą być wykorzystywane do interpetacji danych jako metoda klasyfikacyjna. Zdecydowano się na zastosowanie tego algorytmu w badanym zbiorze, ponieważ chciano sprawdzić, jak zachowa się sieć neuronowa przy niezrównoważonej klasie."
   ]
  },
  {
   "cell_type": "code",
   "execution_count": 98,
   "metadata": {},
   "outputs": [],
   "source": [
    "from sklearn.neural_network import MLPClassifier"
   ]
  },
  {
   "cell_type": "code",
   "execution_count": 99,
   "metadata": {},
   "outputs": [],
   "source": [
    "clf = MLPClassifier(solver='lbfgs', alpha=1e-5,hidden_layer_sizes=(5, 2), random_state=1)"
   ]
  },
  {
   "cell_type": "code",
   "execution_count": 100,
   "metadata": {},
   "outputs": [
    {
     "data": {
      "text/plain": [
       "MLPClassifier(activation='relu', alpha=1e-05, batch_size='auto', beta_1=0.9,\n",
       "              beta_2=0.999, early_stopping=False, epsilon=1e-08,\n",
       "              hidden_layer_sizes=(5, 2), learning_rate='constant',\n",
       "              learning_rate_init=0.001, max_fun=15000, max_iter=200,\n",
       "              momentum=0.9, n_iter_no_change=10, nesterovs_momentum=True,\n",
       "              power_t=0.5, random_state=1, shuffle=True, solver='lbfgs',\n",
       "              tol=0.0001, validation_fraction=0.1, verbose=False,\n",
       "              warm_start=False)"
      ]
     },
     "execution_count": 100,
     "metadata": {},
     "output_type": "execute_result"
    }
   ],
   "source": [
    "clf.fit(X_train,y_train)"
   ]
  },
  {
   "cell_type": "code",
   "execution_count": 101,
   "metadata": {},
   "outputs": [],
   "source": [
    "clf_prob = clf.predict_proba(X_test)"
   ]
  },
  {
   "cell_type": "code",
   "execution_count": 102,
   "metadata": {},
   "outputs": [],
   "source": [
    "y_pred_clf = np.argmax(clf_prob, axis=1)\n",
    "y_true_clf = np.array(y_test)"
   ]
  },
  {
   "cell_type": "code",
   "execution_count": 103,
   "metadata": {},
   "outputs": [
    {
     "name": "stdout",
     "output_type": "stream",
     "text": [
      "Confusion Matrix : \n",
      " [[20957     4]\n",
      " [   39     0]]\n",
      "\n",
      "\n",
      "Accuracy :  0.9979523809523809\n",
      "\n",
      "\n",
      "Sensitivity :  0.9998091694098564\n",
      "\n",
      "\n",
      "Specificity :  0.0\n",
      "\n",
      "\n",
      "F1 Score :  0.9990705655251304\n"
     ]
    }
   ],
   "source": [
    "cm7 = confusion_matrix(y_true_clf,y_pred_clf)\n",
    "print('Confusion Matrix : \\n', cm7)\n",
    "\n",
    "print('\\n')\n",
    "\n",
    "total7=sum(sum(cm7))\n",
    "\n",
    "accuracy_clf=(cm7[0,0]+cm7[1,1])/total7\n",
    "print ('Accuracy : ', accuracy_clf)\n",
    "\n",
    "print('\\n')\n",
    "\n",
    "sensitivity_clf = cm7[0,0]/(cm7[0,0]+cm7[0,1])\n",
    "print('Sensitivity : ', sensitivity_clf )\n",
    "\n",
    "print('\\n')\n",
    "\n",
    "specificity_clf = cm7[1,1]/(cm7[1,0]+cm7[1,1])\n",
    "print('Specificity : ', specificity_clf)\n",
    "\n",
    "print('\\n')\n",
    "\n",
    "precision_clf = cm7[0,0]/(cm7[0,0]+cm7[1,0])\n",
    "\n",
    "f1_rf = (2*precision_clf*sensitivity_clf)/(precision_clf+sensitivity_clf)\n",
    "print('F1 Score : ',f1)"
   ]
  },
  {
   "cell_type": "code",
   "execution_count": 104,
   "metadata": {},
   "outputs": [],
   "source": [
    "clf_prob = clf_prob[:,1]"
   ]
  },
  {
   "cell_type": "code",
   "execution_count": 105,
   "metadata": {},
   "outputs": [
    {
     "name": "stdout",
     "output_type": "stream",
     "text": [
      "Neural Network AUCROC : 0.4974\n"
     ]
    }
   ],
   "source": [
    "aucroc7 = roc_auc_score(y_test,clf_prob)\n",
    "print('Neural Network AUCROC : %.4f' % (aucroc7))"
   ]
  },
  {
   "cell_type": "markdown",
   "metadata": {},
   "source": [
    "Sieć neuronowa wypadła zdecydowanie najgorzej ze wszystkich dotychczasowych modeli z bardzo słabą predykcją oraz AUCROC wynoszącym 0.4974. "
   ]
  },
  {
   "cell_type": "markdown",
   "metadata": {},
   "source": [
    "# Gaussian Naive Bayes"
   ]
  },
  {
   "cell_type": "markdown",
   "metadata": {},
   "source": [
    "Ostatnim modelem zastosowanym w badanym problemie klasyfikacyjnym jest naiwny klasyfikator bayesowski. Mimo, że są oparte na założeniu o o wzajemnej niezależności predyktorów, to i tak uchodzą za jeden z lepszych algorytmów klasyfikacyjnych. "
   ]
  },
  {
   "cell_type": "code",
   "execution_count": 106,
   "metadata": {},
   "outputs": [],
   "source": [
    "from sklearn.naive_bayes import GaussianNB"
   ]
  },
  {
   "cell_type": "code",
   "execution_count": 107,
   "metadata": {},
   "outputs": [],
   "source": [
    "naive = GaussianNB()"
   ]
  },
  {
   "cell_type": "code",
   "execution_count": 108,
   "metadata": {},
   "outputs": [
    {
     "data": {
      "text/plain": [
       "GaussianNB(priors=None, var_smoothing=1e-09)"
      ]
     },
     "execution_count": 108,
     "metadata": {},
     "output_type": "execute_result"
    }
   ],
   "source": [
    "naive.fit(X_train,y_train)"
   ]
  },
  {
   "cell_type": "code",
   "execution_count": 109,
   "metadata": {},
   "outputs": [],
   "source": [
    "naive_prob = naive.predict_proba(X_test)"
   ]
  },
  {
   "cell_type": "code",
   "execution_count": 110,
   "metadata": {},
   "outputs": [],
   "source": [
    "y_pred_naive = np.argmax(naive_prob, axis=1)\n",
    "y_true_naive = np.array(y_test)"
   ]
  },
  {
   "cell_type": "code",
   "execution_count": 111,
   "metadata": {},
   "outputs": [
    {
     "name": "stdout",
     "output_type": "stream",
     "text": [
      "Confusion Matrix : \n",
      " [[20847   114]\n",
      " [   32     7]]\n",
      "\n",
      "\n",
      "Accuracy :  0.9930476190476191\n",
      "\n",
      "\n",
      "Sensitivity :  0.9945613281809074\n",
      "\n",
      "\n",
      "Specificity :  0.1794871794871795\n",
      "\n",
      "\n",
      "F1 Score :  0.9990705655251304\n"
     ]
    }
   ],
   "source": [
    "cm8 = confusion_matrix(y_true_naive,y_pred_naive)\n",
    "print('Confusion Matrix : \\n', cm8)\n",
    "\n",
    "print('\\n')\n",
    "\n",
    "total8=sum(sum(cm8))\n",
    "\n",
    "accuracy_naive=(cm8[0,0]+cm8[1,1])/total8\n",
    "print ('Accuracy : ', accuracy_naive)\n",
    "\n",
    "print('\\n')\n",
    "\n",
    "sensitivity_naive = cm8[0,0]/(cm8[0,0]+cm8[0,1])\n",
    "print('Sensitivity : ', sensitivity_naive )\n",
    "\n",
    "print('\\n')\n",
    "\n",
    "specificity_naive = cm8[1,1]/(cm8[1,0]+cm8[1,1])\n",
    "print('Specificity : ', specificity_naive)\n",
    "\n",
    "print('\\n')\n",
    "\n",
    "precision_naive = cm8[0,0]/(cm8[0,0]+cm8[1,0])\n",
    "\n",
    "f1_rf = (2*precision_naive*sensitivity_naive)/(precision_naive+sensitivity_naive)\n",
    "print('F1 Score : ',f1)"
   ]
  },
  {
   "cell_type": "code",
   "execution_count": 112,
   "metadata": {},
   "outputs": [],
   "source": [
    "naive_prob = naive_prob[:,1]"
   ]
  },
  {
   "cell_type": "code",
   "execution_count": 113,
   "metadata": {},
   "outputs": [
    {
     "name": "stdout",
     "output_type": "stream",
     "text": [
      "Gaussian Naive Bayes AUCROC : 0.8605\n"
     ]
    }
   ],
   "source": [
    "aucroc8 = roc_auc_score(y_test,naive_prob)\n",
    "print('Gaussian Naive Bayes AUCROC : %.4f' % (aucroc8))"
   ]
  },
  {
   "cell_type": "markdown",
   "metadata": {},
   "source": [
    "W przypadku modelu naiwnego klasyfikatora bayesowskiego, pole pod krzywą wyniosło 0.8605, co jest dobrym wynikiem, ale wciąż słabszym od chociażby lasu losowego, czy boostingu gradientowego."
   ]
  },
  {
   "cell_type": "markdown",
   "metadata": {},
   "source": [
    "# Porównanie mocy predykcyjnej wykorzystanych modeli na próbie uczącej"
   ]
  },
  {
   "cell_type": "markdown",
   "metadata": {},
   "source": [
    "Krzywa ROC jest przydatnym narzędziem do przewidywania prawdopodobieństwa wyniku binarnego. Jest to wykres odsetka wyników fałszywie dodatnich w stosunku do odsetka wyników prawdziwie dodatnich dla wielu różnych kandydujących wartości progowych między 0,0 a 1,0. Wykreśla współczynnik fałszywych alarmów w stosunku do współczynnika trafień. Krzywa ROC jest użytecznym narzędziem z kilku powodów. Po pierwsze, krzywe różnych modeli można porównywać bezpośrednio ze sobą lub dla różnych progów. Po drugie, pole pod krzywą (AUC) można wykorzystać jako podsumowanie umiejętności modelowania. Pole pod krzywą określa prawdopodobieństwo tego, że losowo wybrany element klasy pozytywnej otrzyma wyższą wartość \"score\" niż losowo wybrany element klasy negatywnej. Poniżej zestawiono wszystkie wykorzystane algorytmy uczenia maszynowego na jednym wykresie, co umożliwi interpetację wyników."
   ]
  },
  {
   "cell_type": "code",
   "execution_count": 114,
   "metadata": {},
   "outputs": [
    {
     "data": {
      "text/plain": [
       "<matplotlib.legend.Legend at 0x1847c876d08>"
      ]
     },
     "execution_count": 114,
     "metadata": {},
     "output_type": "execute_result"
    },
    {
     "data": {
      "image/png": "[encoded data removed]",
      "text/plain": [
       "<Figure size 1152x720 with 1 Axes>"
      ]
     },
     "metadata": {
      "needs_background": "light"
     },
     "output_type": "display_data"
    }
   ],
   "source": [
    "r_probs = [0 for _ in range(len(y_test))]\n",
    "r_aucroc = roc_auc_score(y_test,r_probs)\n",
    "\n",
    "#Random prediction\n",
    "r_fpr, r_tpr, _ = roc_curve(y_test,r_probs)\n",
    "#Logistic Regression\n",
    "fpr, tpr, _ = roc_curve(y_test,probs)\n",
    "#Random Forest\n",
    "random_forest_fpr, random_forest_tpr, _ = roc_curve(y_test,rand_forest_prob)\n",
    "#XGBoost\n",
    "xgb_fpr, xgb_tpr, _ = roc_curve(y_test,xgboost_prob)\n",
    "#CatBoost\n",
    "catboost_fpr,catboost_tpr, _ = roc_curve(y_test,catboost_prob)\n",
    "#LightGBM\n",
    "lgbm_fpr, lgbm_tpr, _ = roc_curve(y_test,lgbm_prob)\n",
    "#Decision Tree\n",
    "dtree_fpr, dtree_tpr, _ = roc_curve(y_test,dtree_prob)\n",
    "#Neural Network\n",
    "clf_fpr, clf_tpr, _ = roc_curve(y_test,clf_prob)\n",
    "#Naive Bayes\n",
    "naive_fpr, naive_tpr, _ = roc_curve(y_test,naive_prob)\n",
    "\n",
    "plt.figure(figsize=(16,10))\n",
    "\n",
    "#Random prediction\n",
    "plt.plot(r_fpr, r_tpr, linestyle = '--', label = 'Random prediction (AUCROC = %.4f)' % r_aucroc)\n",
    "#Logistic Regression\n",
    "plt.plot(fpr, tpr, marker = '.', label = 'Logistic Regression (AUCROC = %.4f)' % aucroc)\n",
    "#Random Forest\n",
    "plt.plot(random_forest_fpr, random_forest_tpr, marker = '.', label = 'Random Forest (AUCROC = %.4f)' % aucroc2)\n",
    "#XGBoost\n",
    "plt.plot(xgb_fpr, xgb_tpr, marker = '.', label = 'XGBoost (AUCROC = %.4f)' % aucroc3)\n",
    "#CatBoost\n",
    "plt.plot(catboost_fpr, catboost_tpr, marker = '.', label = 'CatBoost (AUCROC = %.4f)' % aucroc4)\n",
    "#LightGBM\n",
    "plt.plot(lgbm_fpr, lgbm_tpr, marker = '.', label = 'LightGBM (AUCROC = %.4f)' % aucroc5)\n",
    "#Decision Tree\n",
    "plt.plot(dtree_fpr, dtree_tpr, marker = '.', label = 'Decision Tree (AUCROC = %.4f)' % aucroc6)\n",
    "#Neural Network\n",
    "plt.plot(clf_fpr, clf_tpr, marker = '.', label = 'Neural Network (AUCROC = %.4f)' % aucroc7)\n",
    "#Naive Bayes\n",
    "plt.plot(naive_fpr, naive_tpr, marker = '.', label = 'Naive Bayes (AUCROC = %.4f)' % aucroc8)\n",
    "\n",
    "plt.title('ROC Curve')\n",
    "plt.xlabel('False Positive Rate')\n",
    "plt.ylabel('True Positive Rate')\n",
    "plt.legend()"
   ]
  },
  {
   "cell_type": "markdown",
   "metadata": {},
   "source": [
    "Biorąc pod uwagę powyższy wykres, można wywnioskować jak oddziaływały badane algorytmy na badanym zbiorze danych. Najlepszym modelem okazał się boosting gradientowy. Pole pod krzywą dla tego algorytmu wyniosło 0.9463, co stanowi najwyższy wynik spośród pozostałych algorytmów i jest on najbardziej zbliżony do 1. W czołówce znajduje się też algorytm lasu losowego, który również osiągnął AUCROC powyżej 0.9 oraz algorytm naiwnego klasyfikatora bayesowskiego z polem pod krzywą 0.8605. Najgorszym modelem okazała się sieć neuronowa która poradziła sobie niemalże tak samo, jak losowa próba. Badanego zbioru danych nie powinno się również wykorzystywać w modelach regresji logistycznej oraz drzewa decyzyjnego, gdyż okazały się one również słabo dopasowane."
   ]
  },
  {
   "cell_type": "markdown",
   "metadata": {},
   "source": [
    "# Generowanie prognoz dla próby testowej"
   ]
  },
  {
   "cell_type": "code",
   "execution_count": 115,
   "metadata": {},
   "outputs": [
    {
     "data": {
      "text/html": [
       "<div>\n",
       "<style scoped>\n",
       "    .dataframe tbody tr th:only-of-type {\n",
       "        vertical-align: middle;\n",
       "    }\n",
       "\n",
       "    .dataframe tbody tr th {\n",
       "        vertical-align: top;\n",
       "    }\n",
       "\n",
       "    .dataframe thead th {\n",
       "        text-align: right;\n",
       "    }\n",
       "</style>\n",
       "<table border=\"1\" class=\"dataframe\">\n",
       "  <thead>\n",
       "    <tr style=\"text-align: right;\">\n",
       "      <th></th>\n",
       "      <th>ip</th>\n",
       "      <th>variant</th>\n",
       "      <th>device</th>\n",
       "      <th>os</th>\n",
       "      <th>channel</th>\n",
       "      <th>click_time</th>\n",
       "      <th>is_clicked</th>\n",
       "      <th>Hour</th>\n",
       "      <th>Day of Week</th>\n",
       "    </tr>\n",
       "  </thead>\n",
       "  <tbody>\n",
       "    <tr>\n",
       "      <th>75721</th>\n",
       "      <td>48240</td>\n",
       "      <td>14</td>\n",
       "      <td>1</td>\n",
       "      <td>35</td>\n",
       "      <td>480</td>\n",
       "      <td>2017-11-09 14:28:00</td>\n",
       "      <td>0</td>\n",
       "      <td>14</td>\n",
       "      <td>Thu</td>\n",
       "    </tr>\n",
       "    <tr>\n",
       "      <th>80184</th>\n",
       "      <td>88629</td>\n",
       "      <td>2</td>\n",
       "      <td>1</td>\n",
       "      <td>22</td>\n",
       "      <td>477</td>\n",
       "      <td>2017-11-08 18:52:00</td>\n",
       "      <td>0</td>\n",
       "      <td>18</td>\n",
       "      <td>Wed</td>\n",
       "    </tr>\n",
       "    <tr>\n",
       "      <th>19864</th>\n",
       "      <td>48063</td>\n",
       "      <td>11</td>\n",
       "      <td>1</td>\n",
       "      <td>12</td>\n",
       "      <td>481</td>\n",
       "      <td>2017-11-09 14:41:00</td>\n",
       "      <td>0</td>\n",
       "      <td>14</td>\n",
       "      <td>Thu</td>\n",
       "    </tr>\n",
       "    <tr>\n",
       "      <th>76699</th>\n",
       "      <td>107097</td>\n",
       "      <td>23</td>\n",
       "      <td>1</td>\n",
       "      <td>13</td>\n",
       "      <td>153</td>\n",
       "      <td>2017-11-09 10:51:00</td>\n",
       "      <td>0</td>\n",
       "      <td>10</td>\n",
       "      <td>Thu</td>\n",
       "    </tr>\n",
       "    <tr>\n",
       "      <th>92991</th>\n",
       "      <td>20411</td>\n",
       "      <td>26</td>\n",
       "      <td>1</td>\n",
       "      <td>32</td>\n",
       "      <td>121</td>\n",
       "      <td>2017-11-09 12:24:00</td>\n",
       "      <td>0</td>\n",
       "      <td>12</td>\n",
       "      <td>Thu</td>\n",
       "    </tr>\n",
       "  </tbody>\n",
       "</table>\n",
       "</div>"
      ],
      "text/plain": [
       "           ip  variant  device  os  channel          click_time  is_clicked  \\\n",
       "75721   48240       14       1  35      480 2017-11-09 14:28:00           0   \n",
       "80184   88629        2       1  22      477 2017-11-08 18:52:00           0   \n",
       "19864   48063       11       1  12      481 2017-11-09 14:41:00           0   \n",
       "76699  107097       23       1  13      153 2017-11-09 10:51:00           0   \n",
       "92991   20411       26       1  32      121 2017-11-09 12:24:00           0   \n",
       "\n",
       "       Hour Day of Week  \n",
       "75721    14         Thu  \n",
       "80184    18         Wed  \n",
       "19864    14         Thu  \n",
       "76699    10         Thu  \n",
       "92991    12         Thu  "
      ]
     },
     "execution_count": 115,
     "metadata": {},
     "output_type": "execute_result"
    }
   ],
   "source": [
    "testing_data.head()"
   ]
  },
  {
   "cell_type": "code",
   "execution_count": 116,
   "metadata": {},
   "outputs": [],
   "source": [
    "X = testing_data[['ip', 'variant', 'device','os', 'channel']]\n",
    "y = testing_data['is_clicked']"
   ]
  },
  {
   "cell_type": "code",
   "execution_count": 117,
   "metadata": {},
   "outputs": [],
   "source": [
    "X_train, X_test, y_train, y_test = train_test_split(X,y,test_size=0.3,random_state=42)"
   ]
  },
  {
   "cell_type": "markdown",
   "metadata": {},
   "source": [
    "# Regresja logistyczna"
   ]
  },
  {
   "cell_type": "code",
   "execution_count": 118,
   "metadata": {},
   "outputs": [],
   "source": [
    "logmodel = LogisticRegression()"
   ]
  },
  {
   "cell_type": "code",
   "execution_count": 119,
   "metadata": {},
   "outputs": [
    {
     "data": {
      "text/plain": [
       "LogisticRegression(C=1.0, class_weight=None, dual=False, fit_intercept=True,\n",
       "                   intercept_scaling=1, l1_ratio=None, max_iter=100,\n",
       "                   multi_class='auto', n_jobs=None, penalty='l2',\n",
       "                   random_state=None, solver='lbfgs', tol=0.0001, verbose=0,\n",
       "                   warm_start=False)"
      ]
     },
     "execution_count": 119,
     "metadata": {},
     "output_type": "execute_result"
    }
   ],
   "source": [
    "logmodel.fit(X_train,y_train)"
   ]
  },
  {
   "cell_type": "code",
   "execution_count": 120,
   "metadata": {},
   "outputs": [],
   "source": [
    "probs = logmodel.predict_proba(X_test)"
   ]
  },
  {
   "cell_type": "code",
   "execution_count": 121,
   "metadata": {},
   "outputs": [],
   "source": [
    "y_pred = np.argmax(probs, axis=1)\n",
    "y_true = np.array(y_test)"
   ]
  },
  {
   "cell_type": "code",
   "execution_count": 122,
   "metadata": {},
   "outputs": [
    {
     "name": "stdout",
     "output_type": "stream",
     "text": [
      "Confusion Matrix : \n",
      " [[8970    3]\n",
      " [  27    0]]\n",
      "\n",
      "\n",
      "Accuracy :  0.9966666666666667\n",
      "\n",
      "\n",
      "Sensitivity :  0.9996656636576395\n",
      "\n",
      "\n",
      "Specificity :  0.0\n",
      "\n",
      "\n",
      "F1 Score :  0.9983305509181969\n"
     ]
    }
   ],
   "source": [
    "cm = confusion_matrix(y_true,y_pred)\n",
    "print('Confusion Matrix : \\n', cm)\n",
    "\n",
    "print('\\n')\n",
    "\n",
    "total=sum(sum(cm))\n",
    "\n",
    "accuracy=(cm[0,0]+cm[1,1])/total\n",
    "print ('Accuracy : ', accuracy)\n",
    "\n",
    "print('\\n')\n",
    "\n",
    "sensitivity = cm[0,0]/(cm[0,0]+cm[0,1])\n",
    "print('Sensitivity : ', sensitivity )\n",
    "\n",
    "print('\\n')\n",
    "\n",
    "specificity = cm[1,1]/(cm[1,0]+cm[1,1])\n",
    "print('Specificity : ', specificity)\n",
    "\n",
    "print('\\n')\n",
    "\n",
    "precision = cm[0,0]/(cm[0,0]+cm[1,0])\n",
    "\n",
    "f1 = (2*precision*sensitivity)/(precision+sensitivity)\n",
    "print('F1 Score : ',f1)"
   ]
  },
  {
   "cell_type": "code",
   "execution_count": 123,
   "metadata": {},
   "outputs": [],
   "source": [
    "probs = probs[:,1]"
   ]
  },
  {
   "cell_type": "code",
   "execution_count": 124,
   "metadata": {},
   "outputs": [
    {
     "name": "stdout",
     "output_type": "stream",
     "text": [
      "Logistic Regression AUCROC : 0.5405\n"
     ]
    }
   ],
   "source": [
    "aucroc = roc_auc_score(y_test,probs)\n",
    "print('Logistic Regression AUCROC : %.4f' % (aucroc))"
   ]
  },
  {
   "cell_type": "markdown",
   "metadata": {},
   "source": [
    "# Random Forest"
   ]
  },
  {
   "cell_type": "code",
   "execution_count": 125,
   "metadata": {},
   "outputs": [
    {
     "data": {
      "text/html": [
       "<div>\n",
       "<style scoped>\n",
       "    .dataframe tbody tr th:only-of-type {\n",
       "        vertical-align: middle;\n",
       "    }\n",
       "\n",
       "    .dataframe tbody tr th {\n",
       "        vertical-align: top;\n",
       "    }\n",
       "\n",
       "    .dataframe thead th {\n",
       "        text-align: right;\n",
       "    }\n",
       "</style>\n",
       "<table border=\"1\" class=\"dataframe\">\n",
       "  <thead>\n",
       "    <tr style=\"text-align: right;\">\n",
       "      <th></th>\n",
       "      <th>ip</th>\n",
       "      <th>variant</th>\n",
       "      <th>device</th>\n",
       "      <th>os</th>\n",
       "      <th>channel</th>\n",
       "    </tr>\n",
       "  </thead>\n",
       "  <tbody>\n",
       "    <tr>\n",
       "      <th>75721</th>\n",
       "      <td>48240</td>\n",
       "      <td>14</td>\n",
       "      <td>1</td>\n",
       "      <td>35</td>\n",
       "      <td>480</td>\n",
       "    </tr>\n",
       "    <tr>\n",
       "      <th>80184</th>\n",
       "      <td>88629</td>\n",
       "      <td>2</td>\n",
       "      <td>1</td>\n",
       "      <td>22</td>\n",
       "      <td>477</td>\n",
       "    </tr>\n",
       "    <tr>\n",
       "      <th>19864</th>\n",
       "      <td>48063</td>\n",
       "      <td>11</td>\n",
       "      <td>1</td>\n",
       "      <td>12</td>\n",
       "      <td>481</td>\n",
       "    </tr>\n",
       "    <tr>\n",
       "      <th>76699</th>\n",
       "      <td>107097</td>\n",
       "      <td>23</td>\n",
       "      <td>1</td>\n",
       "      <td>13</td>\n",
       "      <td>153</td>\n",
       "    </tr>\n",
       "    <tr>\n",
       "      <th>92991</th>\n",
       "      <td>20411</td>\n",
       "      <td>26</td>\n",
       "      <td>1</td>\n",
       "      <td>32</td>\n",
       "      <td>121</td>\n",
       "    </tr>\n",
       "  </tbody>\n",
       "</table>\n",
       "</div>"
      ],
      "text/plain": [
       "           ip  variant  device  os  channel\n",
       "75721   48240       14       1  35      480\n",
       "80184   88629        2       1  22      477\n",
       "19864   48063       11       1  12      481\n",
       "76699  107097       23       1  13      153\n",
       "92991   20411       26       1  32      121"
      ]
     },
     "execution_count": 125,
     "metadata": {},
     "output_type": "execute_result"
    }
   ],
   "source": [
    "X.head()"
   ]
  },
  {
   "cell_type": "code",
   "execution_count": 126,
   "metadata": {},
   "outputs": [],
   "source": [
    "rand_forest = RandomForestClassifier(n_estimators=100)"
   ]
  },
  {
   "cell_type": "code",
   "execution_count": 127,
   "metadata": {},
   "outputs": [
    {
     "data": {
      "text/plain": [
       "RandomForestClassifier(bootstrap=True, ccp_alpha=0.0, class_weight=None,\n",
       "                       criterion='gini', max_depth=None, max_features='auto',\n",
       "                       max_leaf_nodes=None, max_samples=None,\n",
       "                       min_impurity_decrease=0.0, min_impurity_split=None,\n",
       "                       min_samples_leaf=1, min_samples_split=2,\n",
       "                       min_weight_fraction_leaf=0.0, n_estimators=100,\n",
       "                       n_jobs=None, oob_score=False, random_state=None,\n",
       "                       verbose=0, warm_start=False)"
      ]
     },
     "execution_count": 127,
     "metadata": {},
     "output_type": "execute_result"
    }
   ],
   "source": [
    "rand_forest.fit(X_train,y_train)"
   ]
  },
  {
   "cell_type": "code",
   "execution_count": 128,
   "metadata": {},
   "outputs": [],
   "source": [
    "rand_forest_prob = rand_forest.predict_proba(X_test)"
   ]
  },
  {
   "cell_type": "code",
   "execution_count": 129,
   "metadata": {},
   "outputs": [],
   "source": [
    "y_pred_rf = np.argmax(rand_forest_prob, axis=1)\n",
    "y_true_rf = np.array(y_test)"
   ]
  },
  {
   "cell_type": "code",
   "execution_count": 130,
   "metadata": {},
   "outputs": [
    {
     "name": "stdout",
     "output_type": "stream",
     "text": [
      "Confusion Matrix : \n",
      " [[8969    4]\n",
      " [  21    6]]\n",
      "\n",
      "\n",
      "Accuracy :  0.9972222222222222\n",
      "\n",
      "\n",
      "Sensitivity :  0.9995542182101861\n",
      "\n",
      "\n",
      "Specificity :  0.2222222222222222\n",
      "\n",
      "\n",
      "F1 Score :  0.9983305509181969\n"
     ]
    }
   ],
   "source": [
    "cm2 = confusion_matrix(y_true_rf,y_pred_rf)\n",
    "print('Confusion Matrix : \\n', cm2)\n",
    "\n",
    "print('\\n')\n",
    "\n",
    "total2=sum(sum(cm2))\n",
    "\n",
    "accuracy_rf=(cm2[0,0]+cm2[1,1])/total2\n",
    "print ('Accuracy : ', accuracy_rf)\n",
    "\n",
    "print('\\n')\n",
    "\n",
    "sensitivity_rf = cm2[0,0]/(cm2[0,0]+cm2[0,1])\n",
    "print('Sensitivity : ', sensitivity_rf )\n",
    "\n",
    "print('\\n')\n",
    "\n",
    "specificity_rf = cm2[1,1]/(cm2[1,0]+cm2[1,1])\n",
    "print('Specificity : ', specificity_rf)\n",
    "\n",
    "print('\\n')\n",
    "\n",
    "precision_rf = cm2[0,0]/(cm2[0,0]+cm2[1,0])\n",
    "\n",
    "f1_rf = (2*precision_rf*sensitivity_rf)/(precision_rf+sensitivity_rf)\n",
    "print('F1 Score : ',f1)"
   ]
  },
  {
   "cell_type": "code",
   "execution_count": 131,
   "metadata": {},
   "outputs": [],
   "source": [
    "rand_forest_prob = rand_forest_prob[:,1]"
   ]
  },
  {
   "cell_type": "code",
   "execution_count": 132,
   "metadata": {},
   "outputs": [
    {
     "name": "stdout",
     "output_type": "stream",
     "text": [
      "Random Forest AUCROC : 0.8996\n"
     ]
    }
   ],
   "source": [
    "aucroc2 = roc_auc_score(y_test,rand_forest_prob)\n",
    "print('Random Forest AUCROC : %.4f' % (aucroc2))"
   ]
  },
  {
   "cell_type": "markdown",
   "metadata": {},
   "source": [
    "# Gradient Boosting"
   ]
  },
  {
   "cell_type": "code",
   "execution_count": 133,
   "metadata": {},
   "outputs": [],
   "source": [
    "xgboost = XGBClassifier()"
   ]
  },
  {
   "cell_type": "code",
   "execution_count": 134,
   "metadata": {},
   "outputs": [
    {
     "name": "stderr",
     "output_type": "stream",
     "text": [
      "C:\\Users\\USER\\anaconda3\\lib\\site-packages\\xgboost\\sklearn.py:1146: UserWarning: The use of label encoder in XGBClassifier is deprecated and will be removed in a future release. To remove this warning, do the following: 1) Pass option use_label_encoder=False when constructing XGBClassifier object; and 2) Encode your labels (y) as integers starting with 0, i.e. 0, 1, 2, ..., [num_class - 1].\n",
      "  warnings.warn(label_encoder_deprecation_msg, UserWarning)\n"
     ]
    },
    {
     "name": "stdout",
     "output_type": "stream",
     "text": [
      "[15:37:46] WARNING: C:/Users/Administrator/workspace/xgboost-win64_release_1.4.0/src/learner.cc:1095: Starting in XGBoost 1.3.0, the default evaluation metric used with the objective 'binary:logistic' was changed from 'error' to 'logloss'. Explicitly set eval_metric if you'd like to restore the old behavior.\n"
     ]
    },
    {
     "data": {
      "text/plain": [
       "XGBClassifier(base_score=0.5, booster='gbtree', colsample_bylevel=1,\n",
       "              colsample_bynode=1, colsample_bytree=1, gamma=0, gpu_id=-1,\n",
       "              importance_type='gain', interaction_constraints='',\n",
       "              learning_rate=0.300000012, max_delta_step=0, max_depth=6,\n",
       "              min_child_weight=1, missing=nan, monotone_constraints='()',\n",
       "              n_estimators=100, n_jobs=8, num_parallel_tree=1,\n",
       "              objective='binary:logistic', random_state=0, reg_alpha=0,\n",
       "              reg_lambda=1, scale_pos_weight=1, subsample=1,\n",
       "              tree_method='exact', use_label_encoder=True,\n",
       "              validate_parameters=1, verbosity=None)"
      ]
     },
     "execution_count": 134,
     "metadata": {},
     "output_type": "execute_result"
    }
   ],
   "source": [
    "xgboost.fit(X_train,y_train)"
   ]
  },
  {
   "cell_type": "code",
   "execution_count": 135,
   "metadata": {},
   "outputs": [],
   "source": [
    "xgboost_prob = xgboost.predict_proba(X_test)"
   ]
  },
  {
   "cell_type": "code",
   "execution_count": 136,
   "metadata": {},
   "outputs": [],
   "source": [
    "y_pred_xgb = np.argmax(xgboost_prob, axis=1)\n",
    "y_true_xgb = np.array(y_test)"
   ]
  },
  {
   "cell_type": "code",
   "execution_count": 137,
   "metadata": {},
   "outputs": [
    {
     "name": "stdout",
     "output_type": "stream",
     "text": [
      "Confusion Matrix : \n",
      " [[8969    4]\n",
      " [  18    9]]\n",
      "\n",
      "\n",
      "Accuracy :  0.9975555555555555\n",
      "\n",
      "\n",
      "Sensitivity :  0.9995542182101861\n",
      "\n",
      "\n",
      "Specificity :  0.3333333333333333\n",
      "\n",
      "\n",
      "F1 Score :  0.9983305509181969\n"
     ]
    }
   ],
   "source": [
    "cm3 = confusion_matrix(y_true_xgb,y_pred_xgb)\n",
    "print('Confusion Matrix : \\n', cm3)\n",
    "\n",
    "print('\\n')\n",
    "\n",
    "total3=sum(sum(cm3))\n",
    "\n",
    "accuracy_xgb=(cm3[0,0]+cm3[1,1])/total3\n",
    "print ('Accuracy : ', accuracy_xgb)\n",
    "\n",
    "print('\\n')\n",
    "\n",
    "sensitivity_xgb = cm3[0,0]/(cm3[0,0]+cm3[0,1])\n",
    "print('Sensitivity : ', sensitivity_xgb )\n",
    "\n",
    "print('\\n')\n",
    "\n",
    "specificity_xgb = cm3[1,1]/(cm3[1,0]+cm3[1,1])\n",
    "print('Specificity : ', specificity_xgb)\n",
    "\n",
    "print('\\n')\n",
    "\n",
    "precision_xgb = cm3[0,0]/(cm3[0,0]+cm3[1,0])\n",
    "\n",
    "f1_xgb = (2*precision_xgb*sensitivity_xgb)/(precision_xgb+sensitivity_xgb)\n",
    "print('F1 Score : ',f1)"
   ]
  },
  {
   "cell_type": "code",
   "execution_count": 138,
   "metadata": {},
   "outputs": [],
   "source": [
    "xgboost_prob = xgboost_prob[:,1]"
   ]
  },
  {
   "cell_type": "code",
   "execution_count": 139,
   "metadata": {},
   "outputs": [
    {
     "name": "stdout",
     "output_type": "stream",
     "text": [
      "XGBoost AUCROC : 0.9294\n"
     ]
    }
   ],
   "source": [
    "aucroc3 = roc_auc_score(y_test,xgboost_prob)\n",
    "print('XGBoost AUCROC : %.4f' % (aucroc3))"
   ]
  },
  {
   "cell_type": "markdown",
   "metadata": {},
   "source": [
    "# CatBoost Model"
   ]
  },
  {
   "cell_type": "code",
   "execution_count": 140,
   "metadata": {},
   "outputs": [],
   "source": [
    "catboost = CatBoostClassifier(iterations=2,learning_rate=1,depth=2)"
   ]
  },
  {
   "cell_type": "code",
   "execution_count": 141,
   "metadata": {},
   "outputs": [
    {
     "name": "stdout",
     "output_type": "stream",
     "text": [
      "0:\tlearn: 0.1338066\ttotal: 3.29ms\tremaining: 3.29ms\n",
      "1:\tlearn: 0.0523149\ttotal: 6.4ms\tremaining: 0us\n"
     ]
    },
    {
     "data": {
      "text/plain": [
       "<catboost.core.CatBoostClassifier at 0x1847c95c188>"
      ]
     },
     "execution_count": 141,
     "metadata": {},
     "output_type": "execute_result"
    }
   ],
   "source": [
    "catboost.fit(X_train,y_train)"
   ]
  },
  {
   "cell_type": "code",
   "execution_count": 142,
   "metadata": {},
   "outputs": [],
   "source": [
    "catboost_prob = catboost.predict_proba(X_test)"
   ]
  },
  {
   "cell_type": "code",
   "execution_count": 143,
   "metadata": {},
   "outputs": [],
   "source": [
    "y_pred_cb = np.argmax(catboost_prob, axis=1)\n",
    "y_true_cb = np.array(y_test)"
   ]
  },
  {
   "cell_type": "code",
   "execution_count": 144,
   "metadata": {},
   "outputs": [
    {
     "name": "stdout",
     "output_type": "stream",
     "text": [
      "Confusion Matrix : \n",
      " [[8973    0]\n",
      " [  27    0]]\n",
      "\n",
      "\n",
      "Accuracy :  0.997\n",
      "\n",
      "\n",
      "Sensitivity :  1.0\n",
      "\n",
      "\n",
      "Specificity :  0.0\n",
      "\n",
      "\n",
      "F1 Score :  0.9983305509181969\n"
     ]
    }
   ],
   "source": [
    "cm4 = confusion_matrix(y_true_cb,y_pred_cb)\n",
    "print('Confusion Matrix : \\n', cm4)\n",
    "\n",
    "print('\\n')\n",
    "\n",
    "total4=sum(sum(cm4))\n",
    "\n",
    "accuracy_cb=(cm4[0,0]+cm4[1,1])/total4\n",
    "print ('Accuracy : ', accuracy_cb)\n",
    "\n",
    "print('\\n')\n",
    "\n",
    "sensitivity_cb = cm4[0,0]/(cm4[0,0]+cm4[0,1])\n",
    "print('Sensitivity : ', sensitivity_cb )\n",
    "\n",
    "print('\\n')\n",
    "\n",
    "specificity_cb = cm4[1,1]/(cm4[1,0]+cm4[1,1])\n",
    "print('Specificity : ', specificity_cb)\n",
    "\n",
    "print('\\n')\n",
    "\n",
    "precision_cb = cm4[0,0]/(cm4[0,0]+cm4[1,0])\n",
    "\n",
    "f1_cb = (2*precision_cb*sensitivity_cb)/(precision_cb+sensitivity_cb)\n",
    "print('F1 Score : ',f1)"
   ]
  },
  {
   "cell_type": "code",
   "execution_count": 145,
   "metadata": {},
   "outputs": [],
   "source": [
    "catboost_prob = catboost_prob[:,1]"
   ]
  },
  {
   "cell_type": "code",
   "execution_count": 146,
   "metadata": {},
   "outputs": [
    {
     "name": "stdout",
     "output_type": "stream",
     "text": [
      "CatBoost AUCROC : 0.6811\n"
     ]
    }
   ],
   "source": [
    "aucroc4 = roc_auc_score(y_test,catboost_prob)\n",
    "print('CatBoost AUCROC : %.4f' % (aucroc4))"
   ]
  },
  {
   "cell_type": "markdown",
   "metadata": {},
   "source": [
    "# LightGBM Model"
   ]
  },
  {
   "cell_type": "code",
   "execution_count": 147,
   "metadata": {},
   "outputs": [],
   "source": [
    "lgbm = lgb.LGBMClassifier()"
   ]
  },
  {
   "cell_type": "code",
   "execution_count": 148,
   "metadata": {},
   "outputs": [
    {
     "data": {
      "text/plain": [
       "LGBMClassifier(boosting_type='gbdt', class_weight=None, colsample_bytree=1.0,\n",
       "               importance_type='split', learning_rate=0.1, max_depth=-1,\n",
       "               min_child_samples=20, min_child_weight=0.001, min_split_gain=0.0,\n",
       "               n_estimators=100, n_jobs=-1, num_leaves=31, objective=None,\n",
       "               random_state=None, reg_alpha=0.0, reg_lambda=0.0, silent=True,\n",
       "               subsample=1.0, subsample_for_bin=200000, subsample_freq=0)"
      ]
     },
     "execution_count": 148,
     "metadata": {},
     "output_type": "execute_result"
    }
   ],
   "source": [
    "lgbm.fit(X_train,y_train)"
   ]
  },
  {
   "cell_type": "code",
   "execution_count": 149,
   "metadata": {},
   "outputs": [],
   "source": [
    "lgbm_prob = lgbm.predict_proba(X_test)"
   ]
  },
  {
   "cell_type": "code",
   "execution_count": 150,
   "metadata": {},
   "outputs": [],
   "source": [
    "y_pred_lgbm = np.argmax(lgbm_prob, axis=1)\n",
    "y_true_lgbm = np.array(y_test)"
   ]
  },
  {
   "cell_type": "code",
   "execution_count": 151,
   "metadata": {},
   "outputs": [
    {
     "name": "stdout",
     "output_type": "stream",
     "text": [
      "Confusion Matrix : \n",
      " [[8968    5]\n",
      " [  18    9]]\n",
      "\n",
      "\n",
      "Accuracy :  0.9974444444444445\n",
      "\n",
      "\n",
      "Sensitivity :  0.9994427727627326\n",
      "\n",
      "\n",
      "Specificity :  0.3333333333333333\n",
      "\n",
      "\n",
      "F1 Score :  0.9983305509181969\n"
     ]
    }
   ],
   "source": [
    "cm5 = confusion_matrix(y_true_lgbm,y_pred_lgbm)\n",
    "print('Confusion Matrix : \\n', cm5)\n",
    "\n",
    "print('\\n')\n",
    "\n",
    "total5=sum(sum(cm5))\n",
    "\n",
    "accuracy_lgbm=(cm5[0,0]+cm5[1,1])/total5\n",
    "print ('Accuracy : ', accuracy_lgbm)\n",
    "\n",
    "print('\\n')\n",
    "\n",
    "sensitivity_lgbm = cm5[0,0]/(cm5[0,0]+cm5[0,1])\n",
    "print('Sensitivity : ', sensitivity_lgbm )\n",
    "\n",
    "print('\\n')\n",
    "\n",
    "specificity_lgbm = cm5[1,1]/(cm5[1,0]+cm5[1,1])\n",
    "print('Specificity : ', specificity_lgbm)\n",
    "\n",
    "print('\\n')\n",
    "\n",
    "precision_lgbm = cm5[0,0]/(cm5[0,0]+cm5[1,0])\n",
    "\n",
    "f1_lgbm = (2*precision_lgbm*sensitivity_lgbm)/(precision_lgbm+sensitivity_lgbm)\n",
    "print('F1 Score : ',f1)"
   ]
  },
  {
   "cell_type": "code",
   "execution_count": 152,
   "metadata": {},
   "outputs": [],
   "source": [
    "lgbm_prob = lgbm_prob[:,1]"
   ]
  },
  {
   "cell_type": "code",
   "execution_count": 153,
   "metadata": {},
   "outputs": [
    {
     "name": "stdout",
     "output_type": "stream",
     "text": [
      "LightGBM AUCROC : 0.8404\n"
     ]
    }
   ],
   "source": [
    "aucroc5 = roc_auc_score(y_test,lgbm_prob)\n",
    "print('LightGBM AUCROC : %.4f' % (aucroc5))"
   ]
  },
  {
   "cell_type": "markdown",
   "metadata": {},
   "source": [
    "# Decision Tree"
   ]
  },
  {
   "cell_type": "code",
   "execution_count": 154,
   "metadata": {},
   "outputs": [],
   "source": [
    "dtree = DecisionTreeClassifier()"
   ]
  },
  {
   "cell_type": "code",
   "execution_count": 155,
   "metadata": {},
   "outputs": [
    {
     "data": {
      "text/plain": [
       "DecisionTreeClassifier(ccp_alpha=0.0, class_weight=None, criterion='gini',\n",
       "                       max_depth=None, max_features=None, max_leaf_nodes=None,\n",
       "                       min_impurity_decrease=0.0, min_impurity_split=None,\n",
       "                       min_samples_leaf=1, min_samples_split=2,\n",
       "                       min_weight_fraction_leaf=0.0, presort='deprecated',\n",
       "                       random_state=None, splitter='best')"
      ]
     },
     "execution_count": 155,
     "metadata": {},
     "output_type": "execute_result"
    }
   ],
   "source": [
    "dtree.fit(X_train,y_train)"
   ]
  },
  {
   "cell_type": "code",
   "execution_count": 156,
   "metadata": {},
   "outputs": [],
   "source": [
    "dtree_prob = dtree.predict_proba(X_test)"
   ]
  },
  {
   "cell_type": "code",
   "execution_count": 157,
   "metadata": {},
   "outputs": [],
   "source": [
    "y_pred_dtree = np.argmax(dtree_prob, axis=1)\n",
    "y_true_dtree = np.array(y_test)"
   ]
  },
  {
   "cell_type": "code",
   "execution_count": 158,
   "metadata": {},
   "outputs": [
    {
     "name": "stdout",
     "output_type": "stream",
     "text": [
      "Confusion Matrix : \n",
      " [[8956   17]\n",
      " [  17   10]]\n",
      "\n",
      "\n",
      "Accuracy :  0.9962222222222222\n",
      "\n",
      "\n",
      "Sensitivity :  0.998105427393291\n",
      "\n",
      "\n",
      "Specificity :  0.37037037037037035\n",
      "\n",
      "\n",
      "F1 Score :  0.9983305509181969\n"
     ]
    }
   ],
   "source": [
    "cm6 = confusion_matrix(y_true_dtree,y_pred_dtree)\n",
    "print('Confusion Matrix : \\n', cm6)\n",
    "\n",
    "print('\\n')\n",
    "\n",
    "total6=sum(sum(cm6))\n",
    "\n",
    "accuracy_dtree=(cm6[0,0]+cm6[1,1])/total6\n",
    "print ('Accuracy : ', accuracy_dtree)\n",
    "\n",
    "print('\\n')\n",
    "\n",
    "sensitivity_dtree = cm6[0,0]/(cm6[0,0]+cm6[0,1])\n",
    "print('Sensitivity : ', sensitivity_dtree )\n",
    "\n",
    "print('\\n')\n",
    "\n",
    "specificity_dtree = cm6[1,1]/(cm6[1,0]+cm6[1,1])\n",
    "print('Specificity : ', specificity_dtree)\n",
    "\n",
    "print('\\n')\n",
    "\n",
    "precision_dtree = cm6[0,0]/(cm6[0,0]+cm6[1,0])\n",
    "\n",
    "f1_dtree = (2*precision_dtree*sensitivity_dtree)/(precision_dtree+sensitivity_dtree)\n",
    "print('F1 Score : ',f1)"
   ]
  },
  {
   "cell_type": "code",
   "execution_count": 159,
   "metadata": {},
   "outputs": [],
   "source": [
    "dtree_prob = dtree_prob[:,1]"
   ]
  },
  {
   "cell_type": "code",
   "execution_count": 160,
   "metadata": {},
   "outputs": [
    {
     "name": "stdout",
     "output_type": "stream",
     "text": [
      "Decision Tree AUCROC : 0.6842\n"
     ]
    }
   ],
   "source": [
    "aucroc6 = roc_auc_score(y_test,dtree_prob)\n",
    "print('Decision Tree AUCROC : %.4f' % (aucroc6))"
   ]
  },
  {
   "cell_type": "markdown",
   "metadata": {},
   "source": [
    "# Neural Networks"
   ]
  },
  {
   "cell_type": "code",
   "execution_count": 161,
   "metadata": {},
   "outputs": [],
   "source": [
    "clf = MLPClassifier(solver='lbfgs', alpha=1e-5,hidden_layer_sizes=(5, 2), random_state=1)"
   ]
  },
  {
   "cell_type": "code",
   "execution_count": 162,
   "metadata": {},
   "outputs": [
    {
     "data": {
      "text/plain": [
       "MLPClassifier(activation='relu', alpha=1e-05, batch_size='auto', beta_1=0.9,\n",
       "              beta_2=0.999, early_stopping=False, epsilon=1e-08,\n",
       "              hidden_layer_sizes=(5, 2), learning_rate='constant',\n",
       "              learning_rate_init=0.001, max_fun=15000, max_iter=200,\n",
       "              momentum=0.9, n_iter_no_change=10, nesterovs_momentum=True,\n",
       "              power_t=0.5, random_state=1, shuffle=True, solver='lbfgs',\n",
       "              tol=0.0001, validation_fraction=0.1, verbose=False,\n",
       "              warm_start=False)"
      ]
     },
     "execution_count": 162,
     "metadata": {},
     "output_type": "execute_result"
    }
   ],
   "source": [
    "clf.fit(X_train,y_train)"
   ]
  },
  {
   "cell_type": "code",
   "execution_count": 163,
   "metadata": {},
   "outputs": [],
   "source": [
    "clf_prob = clf.predict_proba(X_test)"
   ]
  },
  {
   "cell_type": "code",
   "execution_count": 164,
   "metadata": {},
   "outputs": [],
   "source": [
    "y_pred_clf = np.argmax(clf_prob, axis=1)\n",
    "y_true_clf = np.array(y_test)"
   ]
  },
  {
   "cell_type": "code",
   "execution_count": 165,
   "metadata": {},
   "outputs": [
    {
     "name": "stdout",
     "output_type": "stream",
     "text": [
      "Confusion Matrix : \n",
      " [[8970    3]\n",
      " [  27    0]]\n",
      "\n",
      "\n",
      "Accuracy :  0.9966666666666667\n",
      "\n",
      "\n",
      "Sensitivity :  0.9996656636576395\n",
      "\n",
      "\n",
      "Specificity :  0.0\n",
      "\n",
      "\n",
      "F1 Score :  0.9983305509181969\n"
     ]
    }
   ],
   "source": [
    "cm7 = confusion_matrix(y_true_clf,y_pred_clf)\n",
    "print('Confusion Matrix : \\n', cm7)\n",
    "\n",
    "print('\\n')\n",
    "\n",
    "total7=sum(sum(cm7))\n",
    "\n",
    "accuracy_clf=(cm7[0,0]+cm7[1,1])/total7\n",
    "print ('Accuracy : ', accuracy_clf)\n",
    "\n",
    "print('\\n')\n",
    "\n",
    "sensitivity_clf = cm7[0,0]/(cm7[0,0]+cm7[0,1])\n",
    "print('Sensitivity : ', sensitivity_clf )\n",
    "\n",
    "print('\\n')\n",
    "\n",
    "specificity_clf = cm7[1,1]/(cm7[1,0]+cm7[1,1])\n",
    "print('Specificity : ', specificity_clf)\n",
    "\n",
    "print('\\n')\n",
    "\n",
    "precision_clf = cm7[0,0]/(cm7[0,0]+cm7[1,0])\n",
    "\n",
    "f1_clf = (2*precision_clf*sensitivity_clf)/(precision_clf+sensitivity_clf)\n",
    "print('F1 Score : ',f1)"
   ]
  },
  {
   "cell_type": "code",
   "execution_count": 166,
   "metadata": {},
   "outputs": [],
   "source": [
    "clf_prob = clf_prob[:,1]"
   ]
  },
  {
   "cell_type": "code",
   "execution_count": 167,
   "metadata": {},
   "outputs": [
    {
     "name": "stdout",
     "output_type": "stream",
     "text": [
      "Neural Network AUCROC : 0.4965\n"
     ]
    }
   ],
   "source": [
    "aucroc7 = roc_auc_score(y_test,clf_prob)\n",
    "print('Neural Network AUCROC : %.4f' % (aucroc7))"
   ]
  },
  {
   "cell_type": "markdown",
   "metadata": {},
   "source": [
    "# Gaussian Naive Bayes"
   ]
  },
  {
   "cell_type": "code",
   "execution_count": 168,
   "metadata": {},
   "outputs": [],
   "source": [
    "naive = GaussianNB()"
   ]
  },
  {
   "cell_type": "code",
   "execution_count": 169,
   "metadata": {},
   "outputs": [
    {
     "data": {
      "text/plain": [
       "GaussianNB(priors=None, var_smoothing=1e-09)"
      ]
     },
     "execution_count": 169,
     "metadata": {},
     "output_type": "execute_result"
    }
   ],
   "source": [
    "naive.fit(X_train,y_train)"
   ]
  },
  {
   "cell_type": "code",
   "execution_count": 170,
   "metadata": {},
   "outputs": [],
   "source": [
    "naive_prob = naive.predict_proba(X_test)"
   ]
  },
  {
   "cell_type": "code",
   "execution_count": 171,
   "metadata": {},
   "outputs": [],
   "source": [
    "y_pred_naive = np.argmax(naive_prob, axis=1)\n",
    "y_true_naive = np.array(y_test)"
   ]
  },
  {
   "cell_type": "code",
   "execution_count": 172,
   "metadata": {},
   "outputs": [
    {
     "name": "stdout",
     "output_type": "stream",
     "text": [
      "Confusion Matrix : \n",
      " [[8909   64]\n",
      " [  22    5]]\n",
      "\n",
      "\n",
      "Accuracy :  0.9904444444444445\n",
      "\n",
      "\n",
      "Sensitivity :  0.9928674913629778\n",
      "\n",
      "\n",
      "Specificity :  0.18518518518518517\n",
      "\n",
      "\n",
      "F1 Score :  0.9983305509181969\n"
     ]
    }
   ],
   "source": [
    "cm8 = confusion_matrix(y_true_naive,y_pred_naive)\n",
    "print('Confusion Matrix : \\n', cm8)\n",
    "\n",
    "print('\\n')\n",
    "\n",
    "total8=sum(sum(cm8))\n",
    "\n",
    "accuracy_naive=(cm8[0,0]+cm8[1,1])/total8\n",
    "print ('Accuracy : ', accuracy_naive)\n",
    "\n",
    "print('\\n')\n",
    "\n",
    "sensitivity_naive = cm8[0,0]/(cm8[0,0]+cm8[0,1])\n",
    "print('Sensitivity : ', sensitivity_naive )\n",
    "\n",
    "print('\\n')\n",
    "\n",
    "specificity_naive = cm8[1,1]/(cm8[1,0]+cm8[1,1])\n",
    "print('Specificity : ', specificity_naive)\n",
    "\n",
    "print('\\n')\n",
    "\n",
    "precision_naive = cm8[0,0]/(cm8[0,0]+cm8[1,0])\n",
    "\n",
    "f1_naive = (2*precision_naive*sensitivity_naive)/(precision_naive+sensitivity_naive)\n",
    "print('F1 Score : ',f1)"
   ]
  },
  {
   "cell_type": "code",
   "execution_count": 173,
   "metadata": {},
   "outputs": [],
   "source": [
    "naive_prob = naive_prob[:,1]"
   ]
  },
  {
   "cell_type": "code",
   "execution_count": 174,
   "metadata": {},
   "outputs": [
    {
     "name": "stdout",
     "output_type": "stream",
     "text": [
      "Gaussian Naive Bayes AUCROC : 0.7797\n"
     ]
    }
   ],
   "source": [
    "aucroc8 = roc_auc_score(y_test,naive_prob)\n",
    "print('Gaussian Naive Bayes AUCROC : %.4f' % (aucroc8))"
   ]
  },
  {
   "cell_type": "code",
   "execution_count": 175,
   "metadata": {},
   "outputs": [],
   "source": [
    "comp = pd.DataFrame(index=[['Accuracy','Sensitivity','Specificity','Precision','F1 Score']],columns=['Logistic Regression'])"
   ]
  },
  {
   "cell_type": "code",
   "execution_count": 176,
   "metadata": {},
   "outputs": [],
   "source": [
    "comp.iloc[0] = accuracy\n",
    "comp.iloc[1] = sensitivity\n",
    "comp.iloc[2] = specificity\n",
    "comp.iloc[3] = precision\n",
    "comp.iloc[4] = f1"
   ]
  },
  {
   "cell_type": "code",
   "execution_count": 177,
   "metadata": {},
   "outputs": [],
   "source": [
    "comp['Random Forest'] = accuracy_rf,sensitivity_rf,specificity_rf,precision_rf,f1_rf\n",
    "comp['Gradient Boosting'] = accuracy_xgb,sensitivity_xgb,specificity_xgb,precision_xgb,f1_xgb\n",
    "comp['CatBoost Model'] = accuracy_cb,sensitivity_cb,specificity_cb,precision_cb,f1_cb\n",
    "comp['LightGBM Model'] = accuracy_lgbm,sensitivity_lgbm,specificity_lgbm,precision_lgbm,f1_lgbm\n",
    "comp['Decision Tree'] = accuracy_dtree,sensitivity_dtree,specificity_dtree,precision_dtree,f1_dtree\n",
    "comp['Neural Network'] = accuracy_clf,sensitivity_clf,specificity_clf,precision_clf,f1_clf\n",
    "comp['Guassian Naive Bayes'] = accuracy_naive,sensitivity_naive,specificity_naive,precision_naive,f1_naive"
   ]
  },
  {
   "cell_type": "code",
   "execution_count": 178,
   "metadata": {},
   "outputs": [
    {
     "data": {
      "text/html": [
       "<div>\n",
       "<style scoped>\n",
       "    .dataframe tbody tr th:only-of-type {\n",
       "        vertical-align: middle;\n",
       "    }\n",
       "\n",
       "    .dataframe tbody tr th {\n",
       "        vertical-align: top;\n",
       "    }\n",
       "\n",
       "    .dataframe thead th {\n",
       "        text-align: right;\n",
       "    }\n",
       "</style>\n",
       "<table border=\"1\" class=\"dataframe\">\n",
       "  <thead>\n",
       "    <tr style=\"text-align: right;\">\n",
       "      <th></th>\n",
       "      <th>Logistic Regression</th>\n",
       "      <th>Random Forest</th>\n",
       "      <th>Gradient Boosting</th>\n",
       "      <th>CatBoost Model</th>\n",
       "      <th>LightGBM Model</th>\n",
       "      <th>Decision Tree</th>\n",
       "      <th>Neural Network</th>\n",
       "      <th>Guassian Naive Bayes</th>\n",
       "    </tr>\n",
       "  </thead>\n",
       "  <tbody>\n",
       "    <tr>\n",
       "      <th>Accuracy</th>\n",
       "      <td>0.996667</td>\n",
       "      <td>0.997222</td>\n",
       "      <td>0.997556</td>\n",
       "      <td>0.997000</td>\n",
       "      <td>0.997444</td>\n",
       "      <td>0.996222</td>\n",
       "      <td>0.996667</td>\n",
       "      <td>0.990444</td>\n",
       "    </tr>\n",
       "    <tr>\n",
       "      <th>Sensitivity</th>\n",
       "      <td>0.999666</td>\n",
       "      <td>0.999554</td>\n",
       "      <td>0.999554</td>\n",
       "      <td>1.000000</td>\n",
       "      <td>0.999443</td>\n",
       "      <td>0.998105</td>\n",
       "      <td>0.999666</td>\n",
       "      <td>0.992867</td>\n",
       "    </tr>\n",
       "    <tr>\n",
       "      <th>Specificity</th>\n",
       "      <td>0</td>\n",
       "      <td>0.222222</td>\n",
       "      <td>0.333333</td>\n",
       "      <td>0.000000</td>\n",
       "      <td>0.333333</td>\n",
       "      <td>0.370370</td>\n",
       "      <td>0.000000</td>\n",
       "      <td>0.185185</td>\n",
       "    </tr>\n",
       "    <tr>\n",
       "      <th>Precision</th>\n",
       "      <td>0.996999</td>\n",
       "      <td>0.997664</td>\n",
       "      <td>0.997997</td>\n",
       "      <td>0.997000</td>\n",
       "      <td>0.997997</td>\n",
       "      <td>0.998105</td>\n",
       "      <td>0.996999</td>\n",
       "      <td>0.997537</td>\n",
       "    </tr>\n",
       "    <tr>\n",
       "      <th>F1 Score</th>\n",
       "      <td>0.998331</td>\n",
       "      <td>0.998608</td>\n",
       "      <td>0.998775</td>\n",
       "      <td>0.998498</td>\n",
       "      <td>0.998719</td>\n",
       "      <td>0.998105</td>\n",
       "      <td>0.998331</td>\n",
       "      <td>0.995197</td>\n",
       "    </tr>\n",
       "  </tbody>\n",
       "</table>\n",
       "</div>"
      ],
      "text/plain": [
       "            Logistic Regression  Random Forest  Gradient Boosting  \\\n",
       "Accuracy               0.996667       0.997222           0.997556   \n",
       "Sensitivity            0.999666       0.999554           0.999554   \n",
       "Specificity                   0       0.222222           0.333333   \n",
       "Precision              0.996999       0.997664           0.997997   \n",
       "F1 Score               0.998331       0.998608           0.998775   \n",
       "\n",
       "             CatBoost Model  LightGBM Model  Decision Tree  Neural Network  \\\n",
       "Accuracy           0.997000        0.997444       0.996222        0.996667   \n",
       "Sensitivity        1.000000        0.999443       0.998105        0.999666   \n",
       "Specificity        0.000000        0.333333       0.370370        0.000000   \n",
       "Precision          0.997000        0.997997       0.998105        0.996999   \n",
       "F1 Score           0.998498        0.998719       0.998105        0.998331   \n",
       "\n",
       "             Guassian Naive Bayes  \n",
       "Accuracy                 0.990444  \n",
       "Sensitivity              0.992867  \n",
       "Specificity              0.185185  \n",
       "Precision                0.997537  \n",
       "F1 Score                 0.995197  "
      ]
     },
     "execution_count": 178,
     "metadata": {},
     "output_type": "execute_result"
    }
   ],
   "source": [
    "comp"
   ]
  },
  {
   "cell_type": "markdown",
   "metadata": {},
   "source": [
    "W powyższej tabeli widać zestawienie poszczególnych prognoz pod względem wybranych charakterystyk. Można zauważyć, że dokładność we wszystkich badanych modelach plasowała się na podobnym poziomie. Najlepszy wynik uzyskał model boostingu gradientowego w wysokości 99.76%. Najsłabiej zaś wypadł naiwny klasyfikator bayesowski z wynikiem 99%. Jeśli chodzi o czułość, czyli odsetek zdarzeń prawdziwie pozytywnych, najlepszy wynik uzyskał model CatBoost i wynosił on 100%. Badając swoistość, najwyższy wynik uzyskało drzewo decyzyjne w wysokości 40.7%, a najniższy regresja logistyczna wrac z siecią neuronową w wysokości 0%. Precyzja, podobnie jak w przypadku dokładności, wyglądała podobnie we wszystkich modelach. Najlepszym z nich okazało się być drzewo decyzyjne z wynikiem 99.82%, a nasłabszym regresja logistyczna z siecią neuronową z wynikiem 99.7%. Łatwo można sobie wyobrazić, jak małe różnice w przypadku prezycji tutaj występują. Patrząć na wyniki F1, czyli średniej harmonicznej wartości precision i recall widać, że najlepszy wynik uzyskał model boostingu gradientowego z wynikiem 99.877%, natomiast względnie najsłabiej wypadł naiwny klasyfikator bayesowski z wynikiem 99.5%."
   ]
  },
  {
   "cell_type": "markdown",
   "metadata": {},
   "source": [
    "# Porównanie mocy predykcyjnej wykorzystanych modeli na próbie testowej"
   ]
  },
  {
   "cell_type": "code",
   "execution_count": 179,
   "metadata": {},
   "outputs": [
    {
     "data": {
      "text/plain": [
       "<matplotlib.legend.Legend at 0x1847c949288>"
      ]
     },
     "execution_count": 179,
     "metadata": {},
     "output_type": "execute_result"
    },
    {
     "data": {
      "image/png": "[encoded data removed]",
      "text/plain": [
       "<Figure size 1152x720 with 1 Axes>"
      ]
     },
     "metadata": {
      "needs_background": "light"
     },
     "output_type": "display_data"
    }
   ],
   "source": [
    "r_probs = [0 for _ in range(len(y_test))]\n",
    "r_aucroc = roc_auc_score(y_test,r_probs)\n",
    "\n",
    "#Random prediction\n",
    "r_fpr, r_tpr, _ = roc_curve(y_test,r_probs)\n",
    "#Logistic Regression\n",
    "fpr, tpr, _ = roc_curve(y_test,probs)\n",
    "#Random Forest\n",
    "random_forest_fpr, random_forest_tpr, _ = roc_curve(y_test,rand_forest_prob)\n",
    "#XGBoost\n",
    "xgb_fpr, xgb_tpr, _ = roc_curve(y_test,xgboost_prob)\n",
    "#CatBoost\n",
    "catboost_fpr,catboost_tpr, _ = roc_curve(y_test,catboost_prob)\n",
    "#LightGBM\n",
    "lgbm_fpr, lgbm_tpr, _ = roc_curve(y_test,lgbm_prob)\n",
    "#Decision Tree\n",
    "dtree_fpr, dtree_tpr, _ = roc_curve(y_test,dtree_prob)\n",
    "#Neural Network\n",
    "clf_fpr, clf_tpr, _ = roc_curve(y_test,clf_prob)\n",
    "#Naive Bayes\n",
    "naive_fpr, naive_tpr, _ = roc_curve(y_test,naive_prob)\n",
    "\n",
    "plt.figure(figsize=(16,10))\n",
    "\n",
    "#Random prediction\n",
    "plt.plot(r_fpr, r_tpr, linestyle = '--', label = 'Random prediction (AUCROC = %.4f)' % r_aucroc)\n",
    "#Logistic Regression\n",
    "plt.plot(fpr, tpr, marker = '.', label = 'Logistic Regression (AUCROC = %.4f)' % aucroc)\n",
    "#Random Forest\n",
    "plt.plot(random_forest_fpr, random_forest_tpr, marker = '.', label = 'Random Forest (AUCROC = %.4f)' % aucroc2)\n",
    "#XGBoost\n",
    "plt.plot(xgb_fpr, xgb_tpr, marker = '.', label = 'XGBoost (AUCROC = %.4f)' % aucroc3)\n",
    "#CatBoost\n",
    "plt.plot(catboost_fpr, catboost_tpr, marker = '.', label = 'CatBoost (AUCROC = %.4f)' % aucroc4)\n",
    "#LightGBM\n",
    "plt.plot(lgbm_fpr, lgbm_tpr, marker = '.', label = 'LightGBM (AUCROC = %.4f)' % aucroc5)\n",
    "#Decision Tree\n",
    "plt.plot(dtree_fpr, dtree_tpr, marker = '.', label = 'Decision Tree (AUCROC = %.4f)' % aucroc6)\n",
    "#Neural Network\n",
    "plt.plot(clf_fpr, clf_tpr, marker = '.', label = 'Neural Network (AUCROC = %.4f)' % aucroc7)\n",
    "#Naive Bayes\n",
    "plt.plot(naive_fpr, naive_tpr, marker = '.', label = 'Naive Bayes (AUCROC = %.4f)' % aucroc8)\n",
    "\n",
    "plt.title('ROC Curve')\n",
    "plt.xlabel('False Positive Rate')\n",
    "plt.ylabel('True Positive Rate')\n",
    "plt.legend()"
   ]
  },
  {
   "cell_type": "markdown",
   "metadata": {},
   "source": [
    "Analizując wykres dla próby testowej, można zauważyć, że tak jak samo jak przy próbie uczącej, najlepszym modelem okazał się być boosting gradientowy. Pole pod krzywą wyniosło dla tego algorytmu 0.9294, co jest naprawdę dobrym wynikiem i świadczy o dobrze dopasowanym modelu. Również tak samo jak w przypadku próby uczącej, na drugim miejscu plasuje się algorytm lasu losowego z AUCROC powyżej 0.9. Z kolei trzecim najlepszym modelem jest w przypadku próby testowej, algorytm LightGBM z polem pod krzywą wynoszącym 0.8404. Najgorszymi modelami okazały się być algorytmy sieci neuronowej oraz regresji logistycznej, dla których pole pod krzywą wyniosło blisko 0.5."
   ]
  },
  {
   "cell_type": "markdown",
   "metadata": {},
   "source": [
    "# Improving the performance of different models"
   ]
  },
  {
   "cell_type": "markdown",
   "metadata": {},
   "source": [
    "W celu poprawy wydajności algorytmów uczenia maszynowego, warto zastosować metodę baggingu. Bagging to metaalgorytm uczenia maszynowego, który umożliwia poprawę stabilności i dokładności algorytmów uczenia maszynowego wykorzystywanych m.in w celach klasyfikacyjnych. Zmniejsza on również wariancję i pomaga uniknąć nadmiernego dopasowania . Bagging składa się z dwóch części: agregacji i bootstrapping'u. Bootstrapping to metoda próbkowania, w której próbkę wybiera się z zestawu metodą zastępczą. Algorytm uczenia jest następnie uruchamiany na wybranych próbkach. W bootstrpping'u wykorzystuje się próbkowanie z wymianą, aby procedura selekcji była całkowicie losowa. Gdy próba jest wybierana bez zamiany, kolejne selekcje zmiennych są zawsze zależne od poprzednich selekcji, co sprawia, że kryteria są nielosowe. Prognozy modelu podlegają agregacji w celu połączenia ich w celu uzyskania ostatecznej prognozy uwzględniającej wszystkie możliwe wyniki. Agregację można przeprowadzić na podstawie łącznej liczby wyników lub prawdopodobieństwa predykcji pochodzących z bootstrapping'u każdego modelu w procedurze.\n",
    "\n",
    "Aby poprawić wydajność modelu, można też zastosować regularyzację, która zapobiega nadmiernemu dopasowaniu. Overfitting ma miejsce, gdy model uczy się bardzo specyficznego wzorca i szumu z danych treningowych do tego stopnia, że negatywnie wpływa to na zdolność naszego modelu do uogólniania naszych danych treningowych na nowe dane. Przez szum rozumiemy nieistotne informacje lub losowość w zbiorze danych. Ogólnie rzecz biorąc, regularyzacja oznacza uczynienie rzeczy regularnymi lub akceptowalnymi. W kontekście uczenia maszynowego regularyzacja to proces, który reguluje lub zmniejsza współczynniki do zera. Dzięki temu zniechęca do uczenia się bardziej złożonego lub elastycznego modelu, aby zapobiec nadmiernemu dopasowaniu."
   ]
  },
  {
   "cell_type": "markdown",
   "metadata": {},
   "source": [
    "# Assessment of the variables"
   ]
  },
  {
   "cell_type": "markdown",
   "metadata": {},
   "source": [
    "Ważność zmiennych odnosi się do technik, które przypisują ocenę do zmiennych wejściowych na podstawie ich przydatności w przewidywaniu zmiennej docelowej. Oceny ważności zmiennych można obliczyć dla problemów, które obejmują przewidywanie wartości liczbowej oraz tych, które obejmują zadania klasyfikacyjne. \n",
    "\n",
    "Oceny ważności zmiennych mogą zapewnić wgląd w model. Większość ocen ważności jest obliczana przez model predykcyjny, który został dopasowany do zestawu danych. Sprawdzanie wyniku ważności zapewnia wgląd w ten konkretny model i które zmienne są najważniejsze, a które najmniej ważne dla modelu podczas dokonywania prognozy. Jest to rodzaj interpretacji modelu, który można przeprowadzić dla tych modeli, które go wspierają.\n",
    "\n",
    "Ważność funkcji można wykorzystać również do ulepszenia modelu predykcyjnego. Można to osiągnąć, korzystając z ocen ważności, aby wybrać te zmienne do usunięcia, które mają najniższe wyniki, lub te, które mają zostać zachowane (najwyższe wyniki). Jest to rodzaj wyboru zmiennych i może uprościć modelowany problem, przyspieszyć proces modelowania, a w niektórych przypadkach poprawić wydajność modelu."
   ]
  }
 ],
 "metadata": {
  "kernelspec": {
   "display_name": "Python 3",
   "language": "python",
   "name": "python3"
  },
  "language_info": {
   "codemirror_mode": {
    "name": "ipython",
    "version": 3
   },
   "file_extension": ".py",
   "mimetype": "text/x-python",
   "name": "python",
   "nbconvert_exporter": "python",
   "pygments_lexer": "ipython3",
   "version": "3.7.6"
  }
 },
 "nbformat": 4,
 "nbformat_minor": 4
}
